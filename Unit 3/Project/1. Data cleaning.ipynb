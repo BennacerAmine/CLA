{
 "cells": [
  {
   "cell_type": "markdown",
   "id": "b5349838",
   "metadata": {},
   "source": [
    "<img src=\"Logo.png\" width=\"100\" align=\"left\"/> \n",
    "\n",
    "# <center> Unit 3 Project </center>\n",
    "#  <center> First section : Data cleaning  </center>\n",
    "\n",
    "In this notebook you will be cleaning your dataset and making sure it's fully ready for modeling.\n",
    "\n",
    "The used dataset is [Hepatitis C  dataset](https://www.kaggle.com/fedesoriano/hepatitis-c-dataset)"
   ]
  },
  {
   "cell_type": "markdown",
   "id": "c3a880ce",
   "metadata": {},
   "source": [
    "## Data preparation \n",
    "As a first step we need to prepare the data :\n",
    "\n",
    "1. Read the data set as a data frame ( file name is HepatitisCdata.csv) \n",
    "2. The here are the column of your dataset:\n",
    "    1) X (Patient ID/No.)\n",
    "    2) Category (diagnosis) (values: '0=Blood Donor', '0s=suspect Blood Donor', '1=Hepatitis', '2=Fibrosis', '3=Cirrhosis') ( the target ) \n",
    "    3) Age (in years)\n",
    "    4) Sex (f,m)\n",
    "    Attributes 5 to 14 refer to laboratory data:\n",
    "    5) ALB : Albumin Blood Test\n",
    "    6) ALP : Alkaline phosphatase\n",
    "    7) ALT : Alanine Transaminase\n",
    "    8) AST : Aspartate Transaminase\n",
    "    9) BIL : Bilirubin\n",
    "    10) CHE : Acetylcholinesterase\n",
    "    11) CHOL : Cholesterol\n",
    "    12) CREA : Creatinine \n",
    "    13) GGT : Gamma-Glutamyl Transferase\n",
    "    14) PROT : Proteins\n",
    "    \n",
    "3. Remember your model only accepts numbers so make sure you deal properly with the missing values and the data types and justify your solution choices \n",
    " \n",
    "4. Make sure the dataset shape in the end is : rows 615 and  14 columns \n",
    " \n",
    "5. Once finished save the cleaned dataset as \"clean_HepatitisC.csv\" file \n",
    " "
   ]
  },
  {
   "cell_type": "code",
   "execution_count": 305,
   "id": "7ef3a82c",
   "metadata": {},
   "outputs": [],
   "source": [
    "import pandas as pd \n",
    "import numpy as np \n",
    "from sklearn.preprocessing import OrdinalEncoder"
   ]
  },
  {
   "cell_type": "code",
   "execution_count": 306,
   "id": "b75c3ac8",
   "metadata": {},
   "outputs": [],
   "source": [
    "#To-Do: read the dataset \n",
    "data = pd.read_csv(\"HepatitisCdata.csv\")"
   ]
  },
  {
   "cell_type": "code",
   "execution_count": 307,
   "id": "690a3bdc",
   "metadata": {
    "scrolled": true
   },
   "outputs": [
    {
     "name": "stdout",
     "output_type": "stream",
     "text": [
      "<class 'pandas.core.frame.DataFrame'>\n",
      "RangeIndex: 615 entries, 0 to 614\n",
      "Data columns (total 14 columns):\n",
      " #   Column      Non-Null Count  Dtype  \n",
      "---  ------      --------------  -----  \n",
      " 0   Unnamed: 0  615 non-null    int64  \n",
      " 1   Category    615 non-null    object \n",
      " 2   Age         615 non-null    int64  \n",
      " 3   Sex         615 non-null    object \n",
      " 4   ALB         614 non-null    float64\n",
      " 5   ALP         597 non-null    float64\n",
      " 6   ALT         614 non-null    float64\n",
      " 7   AST         615 non-null    float64\n",
      " 8   BIL         615 non-null    float64\n",
      " 9   CHE         615 non-null    float64\n",
      " 10  CHOL        605 non-null    float64\n",
      " 11  CREA        615 non-null    float64\n",
      " 12  GGT         615 non-null    float64\n",
      " 13  PROT        614 non-null    float64\n",
      "dtypes: float64(10), int64(2), object(2)\n",
      "memory usage: 67.4+ KB\n"
     ]
    }
   ],
   "source": [
    "data.info()"
   ]
  },
  {
   "cell_type": "code",
   "execution_count": 308,
   "id": "04e93e89",
   "metadata": {},
   "outputs": [],
   "source": [
    "#To-Do  Start investigating the data types and correcting that \n",
    "# Provide explanation about each step in Markdown cells "
   ]
  },
  {
   "cell_type": "markdown",
   "id": "dd553b55",
   "metadata": {},
   "source": [
    "1) We can notice that all our features are numerical except two : categories and sex , let's start with the easy one , the \"sex\" feature , all we have to do is use one-hot encoding , beacause since we can only have 2 possible values (m/f) we can encode it in binary (let's say f=0 and m= 1) :"
   ]
  },
  {
   "cell_type": "code",
   "execution_count": 309,
   "id": "631d4b80",
   "metadata": {},
   "outputs": [
    {
     "data": {
      "text/plain": [
       "0      1\n",
       "1      1\n",
       "2      1\n",
       "3      1\n",
       "4      1\n",
       "      ..\n",
       "610    0\n",
       "611    0\n",
       "612    0\n",
       "613    0\n",
       "614    0\n",
       "Name: Sex, Length: 615, dtype: uint8"
      ]
     },
     "execution_count": 309,
     "metadata": {},
     "output_type": "execute_result"
    }
   ],
   "source": [
    "data[\"Sex\"]=pd.get_dummies(data,columns=[\"Sex\"])[\"Sex_m\"]\n",
    "data[\"Sex\"]"
   ]
  },
  {
   "cell_type": "markdown",
   "id": "e7646d96",
   "metadata": {},
   "source": [
    "2) Now for the \"category\" feature we already have a numerical equivalent, with one issue , 0 and 0s, in order to avoid confusion we will try and put the \"suspect blood donor\" as 4 :"
   ]
  },
  {
   "cell_type": "code",
   "execution_count": 310,
   "id": "b67700f1",
   "metadata": {},
   "outputs": [
    {
     "name": "stderr",
     "output_type": "stream",
     "text": [
      "C:\\Users\\Crash\\AppData\\Local\\Temp/ipykernel_1616/114475208.py:6: SettingWithCopyWarning: \n",
      "A value is trying to be set on a copy of a slice from a DataFrame\n",
      "\n",
      "See the caveats in the documentation: https://pandas.pydata.org/pandas-docs/stable/user_guide/indexing.html#returning-a-view-versus-a-copy\n",
      "  data[\"Category\"][i]=4\n",
      "C:\\Users\\Crash\\AppData\\Local\\Temp/ipykernel_1616/114475208.py:8: SettingWithCopyWarning: \n",
      "A value is trying to be set on a copy of a slice from a DataFrame\n",
      "\n",
      "See the caveats in the documentation: https://pandas.pydata.org/pandas-docs/stable/user_guide/indexing.html#returning-a-view-versus-a-copy\n",
      "  data[\"Category\"][i]=data[\"Category\"][i]-1\n"
     ]
    },
    {
     "data": {
      "text/plain": [
       "0      0.0\n",
       "1      0.0\n",
       "2      0.0\n",
       "3      0.0\n",
       "4      0.0\n",
       "      ... \n",
       "610    3.0\n",
       "611    3.0\n",
       "612    3.0\n",
       "613    3.0\n",
       "614    3.0\n",
       "Name: Category, Length: 615, dtype: float64"
      ]
     },
     "execution_count": 310,
     "metadata": {},
     "output_type": "execute_result"
    }
   ],
   "source": [
    "ord_enc=OrdinalEncoder()\n",
    "data[\"Category\"]=ord_enc.fit_transform(data[[\"Category\"]])\n",
    "#This creates a slight shift in the numbers so we will fix that\n",
    "for i in range(len(data[\"Category\"])) :\n",
    "    if data[\"Category\"][i]==1 :\n",
    "        data[\"Category\"][i]=4\n",
    "    if data[\"Category\"][i]>=2 :\n",
    "        data[\"Category\"][i]=data[\"Category\"][i]-1\n",
    "data[\"Category\"]\n"
   ]
  },
  {
   "cell_type": "markdown",
   "id": "907a1029",
   "metadata": {},
   "source": [
    "We should note that for these 2 features we have no missing values so that didn't create any issue"
   ]
  },
  {
   "cell_type": "markdown",
   "id": "801d1a20",
   "metadata": {},
   "source": [
    "> Data types are all numeric Now ! Next we need to deal with missing values for the feature columns "
   ]
  },
  {
   "cell_type": "markdown",
   "id": "0524721b",
   "metadata": {
    "scrolled": true
   },
   "source": [
    "#To-Do list all the columns that contain missing values along with their counts "
   ]
  },
  {
   "cell_type": "code",
   "execution_count": 311,
   "metadata": {},
   "outputs": [
    {
     "data": {
      "text/plain": [
       "Unnamed: 0     0\n",
       "Category       0\n",
       "Age            0\n",
       "Sex            0\n",
       "ALB            1\n",
       "ALP           18\n",
       "ALT            1\n",
       "AST            0\n",
       "BIL            0\n",
       "CHE            0\n",
       "CHOL          10\n",
       "CREA           0\n",
       "GGT            0\n",
       "PROT           1\n",
       "dtype: int64"
      ]
     },
     "execution_count": 311,
     "metadata": {},
     "output_type": "execute_result"
    }
   ],
   "source": [
    "data.isna().sum()"
   ]
  },
  {
   "cell_type": "markdown",
   "id": "15467869",
   "metadata": {},
   "source": [
    "We can clearly see that the \"ALB\",\"ALT\" and \"PROT\" features are each missing just one value , while \"ALP\" and \"CHOL\" are missing 18 and 10 values respectively."
   ]
  },
  {
   "cell_type": "code",
   "execution_count": 312,
   "id": "775f0b44",
   "metadata": {},
   "outputs": [],
   "source": [
    "# To-Do Start providing solutions for each column that has missing data \n",
    "# Treat each case seperately \n",
    "# Hint : no data row should be deleted \n",
    "# Provide evidence that you filled those missing values after each step "
   ]
  },
  {
   "cell_type": "markdown",
   "id": "f8dcdfad",
   "metadata": {},
   "source": [
    "### ALB,ALT and PROT :"
   ]
  },
  {
   "cell_type": "markdown",
   "id": "76336389",
   "metadata": {},
   "source": [
    "We will replacing just 1 missing value which won't affect our distrubition that much (as long as we don't make an obvious outlier) which is why we will fill using the mode :"
   ]
  },
  {
   "cell_type": "code",
   "execution_count": 313,
   "id": "f04d9eaf",
   "metadata": {},
   "outputs": [
    {
     "name": "stdout",
     "output_type": "stream",
     "text": [
      "41.62019543973941\n",
      "28.450814332247557\n",
      "72.0441368078176\n"
     ]
    }
   ],
   "source": [
    "print(data[\"ALB\"].mean())\n",
    "print(data[\"ALT\"].mean())\n",
    "print(data[\"PROT\"].mean())"
   ]
  },
  {
   "cell_type": "code",
   "execution_count": 314,
   "id": "3381f8e2",
   "metadata": {},
   "outputs": [],
   "source": [
    "data[\"ALB\"]=data[\"ALB\"].fillna(data[\"ALB\"].mode()[0])\n",
    "data[\"ALT\"]=data[\"ALT\"].fillna(data[\"ALT\"].mode()[0])\n",
    "data[\"PROT\"]=data[\"PROT\"].fillna(data[\"PROT\"].mode()[0])"
   ]
  },
  {
   "cell_type": "code",
   "execution_count": 315,
   "id": "b9c9343b",
   "metadata": {},
   "outputs": [
    {
     "name": "stdout",
     "output_type": "stream",
     "text": [
      "41.615934959349595\n",
      "28.43154471544715\n",
      "72.0439024390244\n"
     ]
    }
   ],
   "source": [
    "print(data[\"ALB\"].mean())\n",
    "print(data[\"ALT\"].mean())\n",
    "print(data[\"PROT\"].mean())"
   ]
  },
  {
   "cell_type": "markdown",
   "id": "aa9a14f0",
   "metadata": {},
   "source": [
    "We can see that the mean didn't change much after our operation"
   ]
  },
  {
   "cell_type": "markdown",
   "id": "9e92d2c6",
   "metadata": {},
   "source": [
    "### ALP :"
   ]
  },
  {
   "cell_type": "markdown",
   "id": "6c85ccd2",
   "metadata": {},
   "source": [
    "For the ALP feature we should see a boxplot to check our distribution than choose a suitable filling parameter :"
   ]
  },
  {
   "cell_type": "code",
   "execution_count": 316,
   "id": "b7b0ae39",
   "metadata": {},
   "outputs": [
    {
     "name": "stdout",
     "output_type": "stream",
     "text": [
      "68.28391959798995\n",
      "66.2\n",
      "0    52.5\n",
      "1    61.2\n",
      "Name: ALP, dtype: float64\n"
     ]
    }
   ],
   "source": [
    "print(data[\"ALP\"].mean())\n",
    "print(data.ALP.median())\n",
    "print(data.ALP.mode())"
   ]
  },
  {
   "cell_type": "code",
   "execution_count": 317,
   "id": "58ed69df",
   "metadata": {},
   "outputs": [
    {
     "name": "stderr",
     "output_type": "stream",
     "text": [
      "c:\\Users\\Crash\\AppData\\Local\\Programs\\Python\\Python39\\lib\\site-packages\\seaborn\\_decorators.py:36: FutureWarning: Pass the following variable as a keyword arg: x. From version 0.12, the only valid positional argument will be `data`, and passing other arguments without an explicit keyword will result in an error or misinterpretation.\n",
      "  warnings.warn(\n",
      "c:\\Users\\Crash\\AppData\\Local\\Programs\\Python\\Python39\\lib\\site-packages\\seaborn\\distributions.py:2619: FutureWarning: `distplot` is a deprecated function and will be removed in a future version. Please adapt your code to use either `displot` (a figure-level function with similar flexibility) or `histplot` (an axes-level function for histograms).\n",
      "  warnings.warn(msg, FutureWarning)\n"
     ]
    },
    {
     "data": {
      "text/plain": [
       "<AxesSubplot:xlabel='ALP', ylabel='Density'>"
      ]
     },
     "execution_count": 317,
     "metadata": {},
     "output_type": "execute_result"
    },
    {
     "data": {
      "image/png": "[encoded data removed]",
      "text/plain": [
       "<Figure size 432x288 with 1 Axes>"
      ]
     },
     "metadata": {
      "needs_background": "light"
     },
     "output_type": "display_data"
    }
   ],
   "source": [
    "import seaborn as sns\n",
    "#\n",
    "# Box plot\n",
    "#\n",
    "sns.boxplot(data.ALP)\n",
    "#\n",
    "# Distribution plot\n",
    "#\n",
    "sns.distplot(data.ALP)"
   ]
  },
  {
   "cell_type": "markdown",
   "id": "f1777050",
   "metadata": {},
   "source": [
    "After tests , we notice that whatever we choose , it will become the new Mode , so as not to change that we will take one of the two mods so as not to change the new mode , also we will take the mode 61.2 because it's closer to the mean :"
   ]
  },
  {
   "cell_type": "code",
   "execution_count": 318,
   "id": "38f3d37c",
   "metadata": {},
   "outputs": [],
   "source": [
    "data.ALP=data.ALP.fillna(data.ALP.mode()[1])"
   ]
  },
  {
   "cell_type": "code",
   "execution_count": 319,
   "id": "407a754e",
   "metadata": {},
   "outputs": [
    {
     "name": "stdout",
     "output_type": "stream",
     "text": [
      "68.07658536585367\n",
      "65.3\n",
      "0    61.2\n",
      "Name: ALP, dtype: float64\n"
     ]
    }
   ],
   "source": [
    "print(data[\"ALP\"].mean())\n",
    "print(data.ALP.median())\n",
    "print(data.ALP.mode())"
   ]
  },
  {
   "cell_type": "markdown",
   "id": "58418a44",
   "metadata": {},
   "source": [
    "We can see that our mean didn't change , but we should note that our mediane did change."
   ]
  },
  {
   "cell_type": "markdown",
   "id": "60cad835",
   "metadata": {},
   "source": [
    "### CHOL :"
   ]
  },
  {
   "cell_type": "markdown",
   "id": "8c07b87a",
   "metadata": {},
   "source": [
    "Same thing applies to this feature :"
   ]
  },
  {
   "cell_type": "code",
   "execution_count": 320,
   "id": "1413f26f",
   "metadata": {},
   "outputs": [
    {
     "name": "stdout",
     "output_type": "stream",
     "text": [
      "5.368099173553719\n",
      "5.3\n",
      "0    5.07\n",
      "1    5.10\n",
      "Name: CHOL, dtype: float64\n"
     ]
    }
   ],
   "source": [
    "print(data.CHOL.mean())\n",
    "print(data.CHOL.median())\n",
    "print(data.CHOL.mode())"
   ]
  },
  {
   "cell_type": "code",
   "execution_count": 321,
   "id": "1d445559",
   "metadata": {},
   "outputs": [
    {
     "name": "stderr",
     "output_type": "stream",
     "text": [
      "c:\\Users\\Crash\\AppData\\Local\\Programs\\Python\\Python39\\lib\\site-packages\\seaborn\\_decorators.py:36: FutureWarning: Pass the following variable as a keyword arg: x. From version 0.12, the only valid positional argument will be `data`, and passing other arguments without an explicit keyword will result in an error or misinterpretation.\n",
      "  warnings.warn(\n",
      "c:\\Users\\Crash\\AppData\\Local\\Programs\\Python\\Python39\\lib\\site-packages\\seaborn\\distributions.py:2619: FutureWarning: `distplot` is a deprecated function and will be removed in a future version. Please adapt your code to use either `displot` (a figure-level function with similar flexibility) or `histplot` (an axes-level function for histograms).\n",
      "  warnings.warn(msg, FutureWarning)\n"
     ]
    },
    {
     "data": {
      "text/plain": [
       "<AxesSubplot:xlabel='CHOL', ylabel='Density'>"
      ]
     },
     "execution_count": 321,
     "metadata": {},
     "output_type": "execute_result"
    },
    {
     "data": {
      "image/png": "[encoded data removed]",
      "text/plain": [
       "<Figure size 432x288 with 1 Axes>"
      ]
     },
     "metadata": {
      "needs_background": "light"
     },
     "output_type": "display_data"
    }
   ],
   "source": [
    "import seaborn as sns\n",
    "#\n",
    "# Box plot\n",
    "#\n",
    "sns.boxplot(data.CHOL)\n",
    "#\n",
    "# Distribution plot\n",
    "#\n",
    "sns.distplot(data.CHOL)"
   ]
  },
  {
   "cell_type": "markdown",
   "id": "54d03d02",
   "metadata": {},
   "source": [
    "The same remarks as the last feature"
   ]
  },
  {
   "cell_type": "code",
   "execution_count": 322,
   "id": "5b52a8b1",
   "metadata": {},
   "outputs": [],
   "source": [
    "data.CHOL=data.CHOL.fillna(data.CHOL.mode()[1])"
   ]
  },
  {
   "cell_type": "code",
   "execution_count": 323,
   "id": "766ede67",
   "metadata": {},
   "outputs": [
    {
     "name": "stdout",
     "output_type": "stream",
     "text": [
      "5.363739837398374\n",
      "5.29\n",
      "0    5.1\n",
      "Name: CHOL, dtype: float64\n"
     ]
    }
   ],
   "source": [
    "print(data.CHOL.mean())\n",
    "print(data.CHOL.median())\n",
    "print(data.CHOL.mode())"
   ]
  },
  {
   "cell_type": "markdown",
   "id": "13709f78",
   "metadata": {},
   "source": [
    "Now we re-check our data :"
   ]
  },
  {
   "cell_type": "code",
   "execution_count": 324,
   "id": "6889c156",
   "metadata": {},
   "outputs": [
    {
     "data": {
      "text/plain": [
       "Unnamed: 0    0\n",
       "Category      0\n",
       "Age           0\n",
       "Sex           0\n",
       "ALB           0\n",
       "ALP           0\n",
       "ALT           0\n",
       "AST           0\n",
       "BIL           0\n",
       "CHE           0\n",
       "CHOL          0\n",
       "CREA          0\n",
       "GGT           0\n",
       "PROT          0\n",
       "dtype: int64"
      ]
     },
     "execution_count": 324,
     "metadata": {},
     "output_type": "execute_result"
    }
   ],
   "source": [
    "data.isna().sum()"
   ]
  },
  {
   "cell_type": "markdown",
   "id": "9dbb1158",
   "metadata": {},
   "source": [
    "> We have no more missing data\n",
    "As an optional thing we can also rename the first column as 'index' or \"ID\" instead of Unnamed "
   ]
  },
  {
   "cell_type": "code",
   "execution_count": 325,
   "id": "bd552319",
   "metadata": {},
   "outputs": [
    {
     "data": {
      "text/plain": [
       "Index(['Unnamed: 0', 'Category', 'Age', 'Sex', 'ALB', 'ALP', 'ALT', 'AST',\n",
       "       'BIL', 'CHE', 'CHOL', 'CREA', 'GGT', 'PROT'],\n",
       "      dtype='object')"
      ]
     },
     "execution_count": 325,
     "metadata": {},
     "output_type": "execute_result"
    }
   ],
   "source": [
    "data.columns"
   ]
  },
  {
   "cell_type": "code",
   "execution_count": 326,
   "id": "255cb6a7",
   "metadata": {},
   "outputs": [],
   "source": [
    "data.rename(columns={'Unnamed: 0': \"ID\"}, inplace=True)"
   ]
  },
  {
   "cell_type": "code",
   "execution_count": 327,
   "id": "f63998c3",
   "metadata": {},
   "outputs": [
    {
     "data": {
      "text/plain": [
       "Index(['ID', 'Category', 'Age', 'Sex', 'ALB', 'ALP', 'ALT', 'AST', 'BIL',\n",
       "       'CHE', 'CHOL', 'CREA', 'GGT', 'PROT'],\n",
       "      dtype='object')"
      ]
     },
     "execution_count": 327,
     "metadata": {},
     "output_type": "execute_result"
    }
   ],
   "source": [
    "data.columns"
   ]
  },
  {
   "cell_type": "markdown",
   "id": "380f2464",
   "metadata": {},
   "source": [
    "### 6. Save the clean dataset :"
   ]
  },
  {
   "cell_type": "code",
   "execution_count": 330,
   "id": "5b7d623f",
   "metadata": {},
   "outputs": [],
   "source": [
    "# Don't forget to drop the index \n",
    "data=data.drop([\"ID\"],axis=1)"
   ]
  },
  {
   "cell_type": "code",
   "execution_count": 332,
   "id": "b9c9af0b",
   "metadata": {},
   "outputs": [
    {
     "name": "stdout",
     "output_type": "stream",
     "text": [
      "<class 'pandas.core.frame.DataFrame'>\n",
      "RangeIndex: 615 entries, 0 to 614\n",
      "Data columns (total 13 columns):\n",
      " #   Column    Non-Null Count  Dtype  \n",
      "---  ------    --------------  -----  \n",
      " 0   Category  615 non-null    float64\n",
      " 1   Age       615 non-null    int64  \n",
      " 2   Sex       615 non-null    uint8  \n",
      " 3   ALB       615 non-null    float64\n",
      " 4   ALP       615 non-null    float64\n",
      " 5   ALT       615 non-null    float64\n",
      " 6   AST       615 non-null    float64\n",
      " 7   BIL       615 non-null    float64\n",
      " 8   CHE       615 non-null    float64\n",
      " 9   CHOL      615 non-null    float64\n",
      " 10  CREA      615 non-null    float64\n",
      " 11  GGT       615 non-null    float64\n",
      " 12  PROT      615 non-null    float64\n",
      "dtypes: float64(11), int64(1), uint8(1)\n",
      "memory usage: 58.4 KB\n"
     ]
    }
   ],
   "source": [
    "data.info()"
   ]
  }
 ],
 "metadata": {
  "kernelspec": {
   "display_name": "Python 3",
   "language": "python",
   "name": "python3"
  },
  "language_info": {
   "codemirror_mode": {
    "name": "ipython",
    "version": 3
   },
   "file_extension": ".py",
   "mimetype": "text/x-python",
   "name": "python",
   "nbconvert_exporter": "python",
   "pygments_lexer": "ipython3",
   "version": "3.7.6"
  }
 },
 "nbformat": 4,
 "nbformat_minor": 5
}
