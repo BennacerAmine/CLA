{
 "cells": [
  {
   "cell_type": "markdown",
   "id": "3c5220cd",
   "metadata": {},
   "source": [
    "<img src=\"Logo.png\" width=\"100\" align=\"left\"/> \n",
    "\n",
    "# <center> Unit 3 Project </center>\n",
    "#  <center> Fourth section : Conclusion </center>\n",
    "\n",
    "\n",
    "In this notebook you will be comparing the results of the two methods we used on the created testset. That is said: you will compare the results to the clustering with the results of the classification on the same test test and provide insights and explanation about the observed behaviour."
   ]
  },
  {
   "cell_type": "markdown",
   "id": "d7999942",
   "metadata": {},
   "source": [
    "For this final task you will need to : \n",
    "1. Load the testset data that you created all along this project \n",
    "2. For each cluster provide percentages about each actual/ predicted class contained with this cluster. Eg : cluster N°2 : is made of ( 50% class 2 and 50% class 3 ) from actual labels and ( 40 % predicted class 2 and 40% predicted class 3 + 20% predicted class 1) \n",
    "The above is just an example and is far away from the actual situation.\n",
    "\n",
    "3. Explain the behaviour and provide isights about it "
   ]
  },
  {
   "cell_type": "markdown",
   "id": "5ce7ef74",
   "metadata": {},
   "source": [
    "## 1.  Load the data: "
   ]
  },
  {
   "cell_type": "code",
   "execution_count": 12,
   "id": "db5d912f",
   "metadata": {},
   "outputs": [],
   "source": [
    "import pandas as pd "
   ]
  },
  {
   "cell_type": "code",
   "execution_count": 13,
   "id": "20df3761",
   "metadata": {},
   "outputs": [],
   "source": [
    "# To-Do : load the test summary data \n",
    "df = pd.read_csv(\"test_summary.csv\")"
   ]
  },
  {
   "cell_type": "code",
   "execution_count": 14,
   "id": "d4c27a63",
   "metadata": {},
   "outputs": [
    {
     "data": {
      "text/html": [
       "<div>\n",
       "<style scoped>\n",
       "    .dataframe tbody tr th:only-of-type {\n",
       "        vertical-align: middle;\n",
       "    }\n",
       "\n",
       "    .dataframe tbody tr th {\n",
       "        vertical-align: top;\n",
       "    }\n",
       "\n",
       "    .dataframe thead th {\n",
       "        text-align: right;\n",
       "    }\n",
       "</style>\n",
       "<table border=\"1\" class=\"dataframe\">\n",
       "  <thead>\n",
       "    <tr style=\"text-align: right;\">\n",
       "      <th></th>\n",
       "      <th>Unnamed: 0</th>\n",
       "      <th>ID</th>\n",
       "      <th>Age</th>\n",
       "      <th>Sex</th>\n",
       "      <th>ALB</th>\n",
       "      <th>ALP</th>\n",
       "      <th>ALT</th>\n",
       "      <th>AST</th>\n",
       "      <th>BIL</th>\n",
       "      <th>CHE</th>\n",
       "      <th>CHOL</th>\n",
       "      <th>CREA</th>\n",
       "      <th>GGT</th>\n",
       "      <th>PROT</th>\n",
       "      <th>cluster</th>\n",
       "      <th>Category</th>\n",
       "      <th>Predicted_class</th>\n",
       "    </tr>\n",
       "  </thead>\n",
       "  <tbody>\n",
       "    <tr>\n",
       "      <th>0</th>\n",
       "      <td>0</td>\n",
       "      <td>0</td>\n",
       "      <td>32</td>\n",
       "      <td>1</td>\n",
       "      <td>38.5</td>\n",
       "      <td>52.5</td>\n",
       "      <td>7.7</td>\n",
       "      <td>22.1</td>\n",
       "      <td>7.5</td>\n",
       "      <td>6.93</td>\n",
       "      <td>3.23</td>\n",
       "      <td>106.0</td>\n",
       "      <td>12.1</td>\n",
       "      <td>69.0</td>\n",
       "      <td>3</td>\n",
       "      <td>0.0</td>\n",
       "      <td>0.0</td>\n",
       "    </tr>\n",
       "    <tr>\n",
       "      <th>1</th>\n",
       "      <td>1</td>\n",
       "      <td>1</td>\n",
       "      <td>32</td>\n",
       "      <td>1</td>\n",
       "      <td>38.5</td>\n",
       "      <td>70.3</td>\n",
       "      <td>18.0</td>\n",
       "      <td>24.7</td>\n",
       "      <td>3.9</td>\n",
       "      <td>11.17</td>\n",
       "      <td>4.80</td>\n",
       "      <td>74.0</td>\n",
       "      <td>15.6</td>\n",
       "      <td>76.5</td>\n",
       "      <td>3</td>\n",
       "      <td>0.0</td>\n",
       "      <td>0.0</td>\n",
       "    </tr>\n",
       "    <tr>\n",
       "      <th>2</th>\n",
       "      <td>2</td>\n",
       "      <td>2</td>\n",
       "      <td>32</td>\n",
       "      <td>1</td>\n",
       "      <td>46.9</td>\n",
       "      <td>74.7</td>\n",
       "      <td>36.2</td>\n",
       "      <td>52.6</td>\n",
       "      <td>6.1</td>\n",
       "      <td>8.84</td>\n",
       "      <td>5.20</td>\n",
       "      <td>86.0</td>\n",
       "      <td>33.2</td>\n",
       "      <td>79.3</td>\n",
       "      <td>3</td>\n",
       "      <td>0.0</td>\n",
       "      <td>0.0</td>\n",
       "    </tr>\n",
       "    <tr>\n",
       "      <th>3</th>\n",
       "      <td>3</td>\n",
       "      <td>3</td>\n",
       "      <td>32</td>\n",
       "      <td>1</td>\n",
       "      <td>43.2</td>\n",
       "      <td>52.0</td>\n",
       "      <td>30.6</td>\n",
       "      <td>22.6</td>\n",
       "      <td>18.9</td>\n",
       "      <td>7.33</td>\n",
       "      <td>4.74</td>\n",
       "      <td>80.0</td>\n",
       "      <td>33.8</td>\n",
       "      <td>75.7</td>\n",
       "      <td>3</td>\n",
       "      <td>0.0</td>\n",
       "      <td>0.0</td>\n",
       "    </tr>\n",
       "    <tr>\n",
       "      <th>4</th>\n",
       "      <td>4</td>\n",
       "      <td>4</td>\n",
       "      <td>32</td>\n",
       "      <td>1</td>\n",
       "      <td>39.2</td>\n",
       "      <td>74.1</td>\n",
       "      <td>32.6</td>\n",
       "      <td>24.8</td>\n",
       "      <td>9.6</td>\n",
       "      <td>9.15</td>\n",
       "      <td>4.32</td>\n",
       "      <td>76.0</td>\n",
       "      <td>29.9</td>\n",
       "      <td>68.7</td>\n",
       "      <td>3</td>\n",
       "      <td>0.0</td>\n",
       "      <td>0.0</td>\n",
       "    </tr>\n",
       "  </tbody>\n",
       "</table>\n",
       "</div>"
      ],
      "text/plain": [
       "   Unnamed: 0  ID  Age  Sex   ALB   ALP   ALT   AST   BIL    CHE  CHOL   CREA  \\\n",
       "0           0   0   32    1  38.5  52.5   7.7  22.1   7.5   6.93  3.23  106.0   \n",
       "1           1   1   32    1  38.5  70.3  18.0  24.7   3.9  11.17  4.80   74.0   \n",
       "2           2   2   32    1  46.9  74.7  36.2  52.6   6.1   8.84  5.20   86.0   \n",
       "3           3   3   32    1  43.2  52.0  30.6  22.6  18.9   7.33  4.74   80.0   \n",
       "4           4   4   32    1  39.2  74.1  32.6  24.8   9.6   9.15  4.32   76.0   \n",
       "\n",
       "    GGT  PROT  cluster  Category  Predicted_class  \n",
       "0  12.1  69.0        3       0.0              0.0  \n",
       "1  15.6  76.5        3       0.0              0.0  \n",
       "2  33.2  79.3        3       0.0              0.0  \n",
       "3  33.8  75.7        3       0.0              0.0  \n",
       "4  29.9  68.7        3       0.0              0.0  "
      ]
     },
     "execution_count": 14,
     "metadata": {},
     "output_type": "execute_result"
    }
   ],
   "source": [
    "df.head()"
   ]
  },
  {
   "cell_type": "markdown",
   "id": "5a876830",
   "metadata": {},
   "source": [
    "## 2. Analysis: "
   ]
  },
  {
   "cell_type": "code",
   "execution_count": 15,
   "id": "99732f39",
   "metadata": {},
   "outputs": [],
   "source": [
    "# To-Do create a summary about each cluster : \n",
    "# percentages of each target (actual Category) within each cluster \n",
    "# + Percentages of each predicted class within the cluster \n",
    "# results should be something like : \n",
    "# For clusterk : {'true_class0_percetage': 0.0,\n",
    "#                 'true_class1_percetage': 0.0,\n",
    "#                  'true_class2_percetage': 0.0,\n",
    "#                   'true_class3_percetage': 0.0,\n",
    "#                   'true_class4_percetage': 0.0,\n",
    "#                   'predicted_class0_percetage': 0.0,\n",
    "#                   'predicted_class1_percetage': 0.0,\n",
    "#                   'predicted_class2_percetage': 0.0,\n",
    "#                   'predicted_class3_percetage': 0.0,\n",
    "#                    'predicted_class4_percetage': 0.0}"
   ]
  },
  {
   "cell_type": "code",
   "execution_count": 16,
   "id": "d92ee38e",
   "metadata": {},
   "outputs": [],
   "source": [
    "n=df.shape[0]\n",
    "m=[0,0,0,0,0]\n",
    "#True class counters\n",
    "T0=[0,0,0,0,0] \n",
    "T1=[0,0,0,0,0] \n",
    "T2=[0,0,0,0,0] \n",
    "T3=[0,0,0,0,0] \n",
    "T4=[0,0,0,0,0] \n",
    "#Predicted class counters\n",
    "P0=[0,0,0,0,0] \n",
    "P1=[0,0,0,0,0] \n",
    "P2=[0,0,0,0,0] \n",
    "P3=[0,0,0,0,0] \n",
    "P4=[0,0,0,0,0] \n",
    "for j in range(5) :\n",
    "    for i in range(n) :\n",
    "        if df.cluster[i]==j :\n",
    "            m[j]+=1\n",
    "            if df.Category[i]==0 :\n",
    "                T0[j]+=1\n",
    "            elif df.Category[i]==1 :\n",
    "                T1[j]+=1\n",
    "            elif df.Category[i]==2 :\n",
    "                T2[j]+=1\n",
    "            elif df.Category[i]==3 :\n",
    "                T3[j]+=1\n",
    "            else : T4[j]+=1\n",
    "\n",
    "        if df.cluster[i]==j :\n",
    "            if df.Predicted_class[i] ==0 :\n",
    "                P0[j]+=1\n",
    "            elif df.Predicted_class[i]==1 :\n",
    "                P1[j]+=1\n",
    "            elif df.Predicted_class[i]==2 :\n",
    "                P2[j]+=1\n",
    "            elif df.Predicted_class[i]==3 :\n",
    "                P3[j]+=1\n",
    "            else : P4[j]+=1\n",
    "\n",
    "    "
   ]
  },
  {
   "cell_type": "markdown",
   "id": "65b6139d",
   "metadata": {},
   "source": [
    "## 3. Explanations and isights :"
   ]
  },
  {
   "cell_type": "code",
   "execution_count": 17,
   "id": "cecd4211",
   "metadata": {},
   "outputs": [],
   "source": [
    "# in this section you should display analysis about each cluster and comment those one by one "
   ]
  },
  {
   "cell_type": "code",
   "execution_count": 18,
   "id": "4601da9a",
   "metadata": {},
   "outputs": [
    {
     "name": "stdout",
     "output_type": "stream",
     "text": [
      "for cluster 0 :\n",
      "True_classe0_percentage : 0.0\n",
      "True_classe1_percentage : 0.0\n",
      "True_classe2_percentage : 0.0\n",
      "True_classe3_percentage : 100.0\n",
      "True_classe4_percentage : 0.0\n",
      "Predicted_classe0_percentage : 0.0\n",
      "Predicted_classe1_percentage : 0.0\n",
      "Predicted_classe2_percentage : 0.0\n",
      "Predicted_classe3_percentage : 100.0\n",
      "Predicted_classe4_percentage : 0.0\n"
     ]
    }
   ],
   "source": [
    "i=0\n",
    "print(\"for cluster %d :\" %i)\n",
    "print(\"True_classe0_percentage :\",(T0[i]/m[i])*100 )\n",
    "print(\"True_classe1_percentage :\",(T1[i]/m[i])*100 )\n",
    "print(\"True_classe2_percentage :\",(T2[i]/m[i])*100 )\n",
    "print(\"True_classe3_percentage :\",(T3[i]/m[i])*100 )\n",
    "print(\"True_classe4_percentage :\",(T4[i]/m[i])*100 )\n",
    "    \n",
    "print(\"Predicted_classe0_percentage :\",(P0[i]/m[i])*100 )\n",
    "print(\"Predicted_classe1_percentage :\",(P1[i]/m[i])*100 )\n",
    "print(\"Predicted_classe2_percentage :\",(P2[i]/m[i])*100 )\n",
    "print(\"Predicted_classe3_percentage :\",(P3[i]/m[i])*100 )\n",
    "print(\"Predicted_classe4_percentage :\",(P4[i]/m[i])*100 )"
   ]
  },
  {
   "cell_type": "markdown",
   "id": "5c601af3",
   "metadata": {},
   "source": [
    "The first cluster (0) is made only of the True class3 and Predicted class3"
   ]
  },
  {
   "cell_type": "code",
   "execution_count": 19,
   "id": "0bc35116",
   "metadata": {},
   "outputs": [
    {
     "name": "stdout",
     "output_type": "stream",
     "text": [
      "for cluster 1 :\n",
      "True_classe0_percentage : 6.666666666666667\n",
      "True_classe1_percentage : 13.333333333333334\n",
      "True_classe2_percentage : 13.333333333333334\n",
      "True_classe3_percentage : 66.66666666666666\n",
      "True_classe4_percentage : 0.0\n",
      "Predicted_classe0_percentage : 6.666666666666667\n",
      "Predicted_classe1_percentage : 26.666666666666668\n",
      "Predicted_classe2_percentage : 6.666666666666667\n",
      "Predicted_classe3_percentage : 60.0\n",
      "Predicted_classe4_percentage : 0.0\n"
     ]
    }
   ],
   "source": [
    "i=1\n",
    "print(\"for cluster %d :\" %i)\n",
    "print(\"True_classe0_percentage :\",(T0[i]/m[i])*100 )\n",
    "print(\"True_classe1_percentage :\",(T1[i]/m[i])*100 )\n",
    "print(\"True_classe2_percentage :\",(T2[i]/m[i])*100 )\n",
    "print(\"True_classe3_percentage :\",(T3[i]/m[i])*100 )\n",
    "print(\"True_classe4_percentage :\",(T4[i]/m[i])*100 )\n",
    "    \n",
    "print(\"Predicted_classe0_percentage :\",(P0[i]/m[i])*100 )\n",
    "print(\"Predicted_classe1_percentage :\",(P1[i]/m[i])*100 )\n",
    "print(\"Predicted_classe2_percentage :\",(P2[i]/m[i])*100 )\n",
    "print(\"Predicted_classe3_percentage :\",(P3[i]/m[i])*100 )\n",
    "print(\"Predicted_classe4_percentage :\",(P4[i]/m[i])*100 )"
   ]
  },
  {
   "cell_type": "markdown",
   "id": "eaa100ce",
   "metadata": {},
   "source": [
    "The second cluster (1) is made mainly of True class3 and predicted class3 both with a percentage of around 67% , but we also notice the presence of the classes 0 1 2 , with a little difference in percentages between the True and predicted. "
   ]
  },
  {
   "cell_type": "code",
   "execution_count": 20,
   "id": "c705e6f0",
   "metadata": {},
   "outputs": [
    {
     "name": "stdout",
     "output_type": "stream",
     "text": [
      "for cluster 2 :\n",
      "True_classe0_percentage : 0.0\n",
      "True_classe1_percentage : 25.0\n",
      "True_classe2_percentage : 0.0\n",
      "True_classe3_percentage : 50.0\n",
      "True_classe4_percentage : 25.0\n",
      "Predicted_classe0_percentage : 0.0\n",
      "Predicted_classe1_percentage : 25.0\n",
      "Predicted_classe2_percentage : 0.0\n",
      "Predicted_classe3_percentage : 50.0\n",
      "Predicted_classe4_percentage : 25.0\n"
     ]
    }
   ],
   "source": [
    "i=2\n",
    "print(\"for cluster %d :\" %i)\n",
    "print(\"True_classe0_percentage :\",(T0[i]/m[i])*100 )\n",
    "print(\"True_classe1_percentage :\",(T1[i]/m[i])*100 )\n",
    "print(\"True_classe2_percentage :\",(T2[i]/m[i])*100 )\n",
    "print(\"True_classe3_percentage :\",(T3[i]/m[i])*100 )\n",
    "print(\"True_classe4_percentage :\",(T4[i]/m[i])*100 )\n",
    "    \n",
    "print(\"Predicted_classe0_percentage :\",(P0[i]/m[i])*100 )\n",
    "print(\"Predicted_classe1_percentage :\",(P1[i]/m[i])*100 )\n",
    "print(\"Predicted_classe2_percentage :\",(P2[i]/m[i])*100 )\n",
    "print(\"Predicted_classe3_percentage :\",(P3[i]/m[i])*100 )\n",
    "print(\"Predicted_classe4_percentage :\",(P4[i]/m[i])*100 )"
   ]
  },
  {
   "cell_type": "markdown",
   "id": "93cb74d8",
   "metadata": {},
   "source": [
    "The next cluster (2) is mainly made of also Class3 with different percentages for the True and predicted , along side the presence of both classes 1 and 4"
   ]
  },
  {
   "cell_type": "code",
   "execution_count": 21,
   "id": "4ac288b1",
   "metadata": {},
   "outputs": [
    {
     "name": "stdout",
     "output_type": "stream",
     "text": [
      "for cluster 3 :\n",
      "True_classe0_percentage : 96.92307692307692\n",
      "True_classe1_percentage : 2.197802197802198\n",
      "True_classe2_percentage : 0.43956043956043955\n",
      "True_classe3_percentage : 0.21978021978021978\n",
      "True_classe4_percentage : 0.21978021978021978\n",
      "Predicted_classe0_percentage : 97.14285714285714\n",
      "Predicted_classe1_percentage : 1.9780219780219779\n",
      "Predicted_classe2_percentage : 0.43956043956043955\n",
      "Predicted_classe3_percentage : 0.21978021978021978\n",
      "Predicted_classe4_percentage : 0.21978021978021978\n"
     ]
    }
   ],
   "source": [
    "i=3\n",
    "print(\"for cluster %d :\" %i)\n",
    "print(\"True_classe0_percentage :\",(T0[i]/m[i])*100 )\n",
    "print(\"True_classe1_percentage :\",(T1[i]/m[i])*100 )\n",
    "print(\"True_classe2_percentage :\",(T2[i]/m[i])*100 )\n",
    "print(\"True_classe3_percentage :\",(T3[i]/m[i])*100 )\n",
    "print(\"True_classe4_percentage :\",(T4[i]/m[i])*100 )\n",
    "    \n",
    "print(\"Predicted_classe0_percentage :\",(P0[i]/m[i])*100 )\n",
    "print(\"Predicted_classe1_percentage :\",(P1[i]/m[i])*100 )\n",
    "print(\"Predicted_classe2_percentage :\",(P2[i]/m[i])*100 )\n",
    "print(\"Predicted_classe3_percentage :\",(P3[i]/m[i])*100 )\n",
    "print(\"Predicted_classe4_percentage :\",(P4[i]/m[i])*100 )"
   ]
  },
  {
   "cell_type": "markdown",
   "id": "694a669e",
   "metadata": {},
   "source": [
    "This cluster is quite different from the previous ones, it is mainly based off class0 with nearly 100% for both the True and predicted, and very small amount for each of the other classes."
   ]
  },
  {
   "cell_type": "code",
   "execution_count": 22,
   "id": "5c765688",
   "metadata": {},
   "outputs": [
    {
     "name": "stdout",
     "output_type": "stream",
     "text": [
      "for cluster 4 :\n",
      "True_classe0_percentage : 67.91044776119402\n",
      "True_classe1_percentage : 7.462686567164178\n",
      "True_classe2_percentage : 12.686567164179104\n",
      "True_classe3_percentage : 8.955223880597014\n",
      "True_classe4_percentage : 2.9850746268656714\n",
      "Predicted_classe0_percentage : 73.13432835820896\n",
      "Predicted_classe1_percentage : 7.462686567164178\n",
      "Predicted_classe2_percentage : 9.701492537313433\n",
      "Predicted_classe3_percentage : 7.462686567164178\n",
      "Predicted_classe4_percentage : 2.2388059701492535\n"
     ]
    }
   ],
   "source": [
    "i=4\n",
    "print(\"for cluster %d :\" %i)\n",
    "print(\"True_classe0_percentage :\",(T0[i]/m[i])*100 )\n",
    "print(\"True_classe1_percentage :\",(T1[i]/m[i])*100 )\n",
    "print(\"True_classe2_percentage :\",(T2[i]/m[i])*100 )\n",
    "print(\"True_classe3_percentage :\",(T3[i]/m[i])*100 )\n",
    "print(\"True_classe4_percentage :\",(T4[i]/m[i])*100 )\n",
    "    \n",
    "print(\"Predicted_classe0_percentage :\",(P0[i]/m[i])*100 )\n",
    "print(\"Predicted_classe1_percentage :\",(P1[i]/m[i])*100 )\n",
    "print(\"Predicted_classe2_percentage :\",(P2[i]/m[i])*100 )\n",
    "print(\"Predicted_classe3_percentage :\",(P3[i]/m[i])*100 )\n",
    "print(\"Predicted_classe4_percentage :\",(P4[i]/m[i])*100 )"
   ]
  },
  {
   "cell_type": "markdown",
   "id": "35caecae",
   "metadata": {},
   "source": [
    "Similarly to the last one , this cluster is mainly made of class0, but with less intensity, the other classes all have small percentages but much more considerable than the previous cluster"
   ]
  },
  {
   "cell_type": "markdown",
   "id": "c248cbad",
   "metadata": {},
   "source": [
    "## 4. Conclusion:\n",
    "\n",
    "Explain your findings and provide reasons for the behaviour."
   ]
  },
  {
   "cell_type": "markdown",
   "id": "0198da58",
   "metadata": {},
   "source": [
    "First of all , before attacking the behavioural explanation for our clusters , we should start by affirming how well built our supervised model was, we can see that in fact the difference in pourcentages isn't that remarkable considering the size of our data, so we did manage to build a good performing model for this data.\n",
    "\n",
    "Now as for the unsupervised model , we can see that our clusters are quite random, the percentages constituing each cluster aren't satisfying , and the reason for that is the nature of the model, the agglomerative clustering creates the clusters based on distances, and no matter how we change the parameters, the results will always be disapointing , which mean this method isn't suited for this dataset and we should probably think of something else. (like working with just the supervised model which has an excellent accuarcy)"
   ]
  }
 ],
 "metadata": {
  "kernelspec": {
   "display_name": "Python 3.9.0 64-bit",
   "language": "python",
   "name": "python3"
  },
  "language_info": {
   "codemirror_mode": {
    "name": "ipython",
    "version": 3
   },
   "file_extension": ".py",
   "mimetype": "text/x-python",
   "name": "python",
   "nbconvert_exporter": "python",
   "pygments_lexer": "ipython3",
   "version": "3.9.0"
  },
  "vscode": {
   "interpreter": {
    "hash": "bbfb073850c22af18135b8000cacc021ae4b545c198623db5226286deeff3d02"
   }
  }
 },
 "nbformat": 4,
 "nbformat_minor": 5
}
