{
 "cells": [
  {
   "cell_type": "markdown",
   "metadata": {},
   "source": [
    "### Importing "
   ]
  },
  {
   "cell_type": "code",
   "execution_count": 57,
   "metadata": {},
   "outputs": [],
   "source": [
    "import pandas as pd\n",
    "from matplotlib import pyplot as plt\n",
    "from sklearn import metrics,svm,tree\n",
    "from sklearn.datasets import load_breast_cancer\n",
    "from sklearn.model_selection import train_test_split\n",
    "from sklearn.naive_bayes import GaussianNB\n",
    "from sklearn.ensemble import RandomForestClassifier\n"
   ]
  },
  {
   "cell_type": "markdown",
   "metadata": {},
   "source": [
    "### Loading the Data"
   ]
  },
  {
   "cell_type": "code",
   "execution_count": 58,
   "metadata": {},
   "outputs": [],
   "source": [
    "x,y=load_breast_cancer(return_X_y=True)\n"
   ]
  },
  {
   "cell_type": "markdown",
   "metadata": {},
   "source": [
    "### Splitting the Data"
   ]
  },
  {
   "cell_type": "code",
   "execution_count": 59,
   "metadata": {},
   "outputs": [
    {
     "name": "stdout",
     "output_type": "stream",
     "text": [
      "(398, 30) (171, 30) (398,) (171,)\n"
     ]
    }
   ],
   "source": [
    "x_train ,x_test ,y_train ,y_test=train_test_split(x,y,test_size=0.3,random_state=0)\n",
    "print(x_train.shape,\n",
    "x_test.shape,\n",
    "y_train.shape,\n",
    "y_test.shape)"
   ]
  },
  {
   "cell_type": "markdown",
   "metadata": {},
   "source": [
    "### Training the Data"
   ]
  },
  {
   "cell_type": "markdown",
   "metadata": {},
   "source": [
    "1) Naive Bayes"
   ]
  },
  {
   "cell_type": "code",
   "execution_count": 60,
   "metadata": {},
   "outputs": [
    {
     "name": "stdout",
     "output_type": "stream",
     "text": [
      "The number of mislabeled points out of 171 is :13 \n",
      "And we have a precision of : 92.397661 %\n"
     ]
    }
   ],
   "source": [
    "#We'll be using the GaussianNB\n",
    "clf1=GaussianNB()\n",
    "y_pred1=clf1.fit(x_train,y_train).predict(x_test)\n",
    "\n",
    "#And now we count the misclassified labels\n",
    "print(\"The number of mislabeled points out of %d is :%d \\nAnd we have a precision of : %f %%\" \n",
    "% (x_test.shape[0],(y_test!=y_pred1).sum(),100*metrics.accuracy_score(y_test,y_pred1)))"
   ]
  },
  {
   "cell_type": "markdown",
   "metadata": {},
   "source": [
    "2) SVM"
   ]
  },
  {
   "cell_type": "code",
   "execution_count": 61,
   "metadata": {},
   "outputs": [
    {
     "name": "stdout",
     "output_type": "stream",
     "text": [
      "The number of mislabeled points out of 171 is :63 \n",
      "And we have a precision of : 63.157895 %\n"
     ]
    }
   ],
   "source": [
    "clf2=svm.SVC(gamma=\"auto\")\n",
    "y_pred2=clf2.fit(x_train,y_train).predict(x_test)\n",
    "\n",
    "#Calculating the accuracy\n",
    "print(\"The number of mislabeled points out of %d is :%d \\nAnd we have a precision of : %f %%\" \n",
    "% (x_test.shape[0],(y_test!=y_pred2).sum(),100*metrics.accuracy_score(y_test,y_pred2)))"
   ]
  },
  {
   "cell_type": "markdown",
   "metadata": {},
   "source": [
    "3) Decision trees"
   ]
  },
  {
   "cell_type": "code",
   "execution_count": 62,
   "metadata": {},
   "outputs": [
    {
     "name": "stdout",
     "output_type": "stream",
     "text": [
      "The number of mislabeled points out of 171 is :9 \n",
      "And we have a precision of : 94.736842 %\n"
     ]
    }
   ],
   "source": [
    "clf3=tree.DecisionTreeClassifier(criterion='entropy')\n",
    "y_pred3=clf3.fit(x_train,y_train).predict(x_test)\n",
    "\n",
    "#Calculating the accuracy\n",
    "print(\"The number of mislabeled points out of %d is :%d \\nAnd we have a precision of : %f %%\" \n",
    "% (x_test.shape[0],(y_test!=y_pred3).sum(),100*metrics.accuracy_score(y_test,y_pred3)))"
   ]
  },
  {
   "cell_type": "code",
   "execution_count": 64,
   "metadata": {},
   "outputs": [
    {
     "data": {
      "image/png": "[encoded data removed]",
      "text/plain": [
       "<Figure size 432x288 with 1 Axes>"
      ]
     },
     "metadata": {
      "needs_background": "light"
     },
     "output_type": "display_data"
    }
   ],
   "source": [
    "tree.plot_tree(clf3)\n",
    "plt.show()"
   ]
  },
  {
   "cell_type": "markdown",
   "metadata": {},
   "source": [
    "4) Random forests"
   ]
  },
  {
   "cell_type": "code",
   "execution_count": 56,
   "metadata": {},
   "outputs": [
    {
     "name": "stdout",
     "output_type": "stream",
     "text": [
      "The number of mislabeled points out of 171 is :8 \n",
      "And we have a precision of : 95.321637 %\n"
     ]
    }
   ],
   "source": [
    "clf4=RandomForestClassifier(n_estimators=10,criterion='entropy',random_state=0)\n",
    "y_pred4=clf4.fit(x_train,y_train).predict(x_test)\n",
    "\n",
    "#Calculating the accuracy\n",
    "print(\"The number of mislabeled points out of %d is :%d \\nAnd we have a precision of : %f %%\" \n",
    "% (x_test.shape[0],(y_test!=y_pred4).sum(),100*metrics.accuracy_score(y_test,y_pred4)))"
   ]
  },
  {
   "cell_type": "markdown",
   "metadata": {},
   "source": [
    "### Comparing the results"
   ]
  },
  {
   "cell_type": "markdown",
   "metadata": {},
   "source": [
    "Putting our classifiers next to each other we can see that in term of descending accuracy our order is :\n",
    "1)Random Forests\n",
    "2)Decision Trees\n",
    "3)Naive Bayes\n",
    "4)SVM\n",
    "We should also note that all our classifiers are very precise with an accuracy of over 90% except for the SVM one"
   ]
  }
 ],
 "metadata": {
  "kernelspec": {
   "display_name": "myenv",
   "language": "python",
   "name": "myenv"
  },
  "language_info": {
   "codemirror_mode": {
    "name": "ipython",
    "version": 3
   },
   "file_extension": ".py",
   "mimetype": "text/x-python",
   "name": "python",
   "nbconvert_exporter": "python",
   "pygments_lexer": "ipython3",
   "version": "3.9.7"
  },
  "orig_nbformat": 4
 },
 "nbformat": 4,
 "nbformat_minor": 2
}
