{
 "cells": [
  {
   "cell_type": "markdown",
   "metadata": {},
   "source": [
    "## Importing the data"
   ]
  },
  {
   "cell_type": "code",
   "execution_count": 42,
   "metadata": {},
   "outputs": [],
   "source": [
    "import pandas as pd\n",
    "import numpy as np\n",
    "from sklearn.model_selection import train_test_split\n",
    "from sklearn.linear_model import LogisticRegression"
   ]
  },
  {
   "cell_type": "code",
   "execution_count": 47,
   "metadata": {},
   "outputs": [],
   "source": [
    "def get_accuracy(y_pred,y_test):\n",
    "    correctly_classified=0\n",
    "    for count in range(np.size(y_pred)) :\n",
    "        if y_test[count]==y_pred[count]:\n",
    "           correctly_classified=correctly_classified+1\n",
    "    acc=(correctly_classified/len(y_pred))*100\n",
    "    print(\"Accuracy on test set is {:.2f}\".format(acc))\n",
    "    return acc "
   ]
  },
  {
   "cell_type": "markdown",
   "metadata": {},
   "source": [
    "### Importing the dataset"
   ]
  },
  {
   "cell_type": "code",
   "execution_count": 34,
   "metadata": {},
   "outputs": [
    {
     "name": "stdout",
     "output_type": "stream",
     "text": [
      "<class 'pandas.core.frame.DataFrame'>\n",
      "RangeIndex: 333200 entries, 0 to 333199\n",
      "Data columns (total 50 columns):\n",
      " #   Column                   Non-Null Count   Dtype  \n",
      "---  ------                   --------------   -----  \n",
      " 0   SUBJECT_ID               333200 non-null  int64  \n",
      " 1   BIRTH_YEAR               333200 non-null  int64  \n",
      " 2   GENDER_FACTOR            333200 non-null  object \n",
      " 3   RACE_FACTOR              333200 non-null  object \n",
      " 4   ETHNICITY_FACTOR         333200 non-null  object \n",
      " 5   PAYER_FACTOR             333200 non-null  object \n",
      " 6   ATOPIC_MARCH_COHORT      333200 non-null  bool   \n",
      " 7   AGE_START_YEARS          333200 non-null  float64\n",
      " 8   AGE_END_YEARS            333200 non-null  float64\n",
      " 9   SHELLFISH_ALG_START      5246 non-null    float64\n",
      " 10  SHELLFISH_ALG_END        1051 non-null    float64\n",
      " 11  FISH_ALG_START           1796 non-null    float64\n",
      " 12  FISH_ALG_END             527 non-null     float64\n",
      " 13  MILK_ALG_START           7289 non-null    float64\n",
      " 14  MILK_ALG_END             4580 non-null    float64\n",
      " 15  SOY_ALG_START            2419 non-null    float64\n",
      " 16  SOY_ALG_END              1431 non-null    float64\n",
      " 17  EGG_ALG_START            6065 non-null    float64\n",
      " 18  EGG_ALG_END              3293 non-null    float64\n",
      " 19  WHEAT_ALG_START          1146 non-null    float64\n",
      " 20  WHEAT_ALG_END            688 non-null     float64\n",
      " 21  PEANUT_ALG_START         8653 non-null    float64\n",
      " 22  PEANUT_ALG_END           2092 non-null    float64\n",
      " 23  SESAME_ALG_START         766 non-null     float64\n",
      " 24  SESAME_ALG_END           178 non-null     float64\n",
      " 25  TREENUT_ALG_START        1 non-null       float64\n",
      " 26  TREENUT_ALG_END          0 non-null       float64\n",
      " 27  WALNUT_ALG_START         704 non-null     float64\n",
      " 28  WALNUT_ALG_END           166 non-null     float64\n",
      " 29  PECAN_ALG_START          285 non-null     float64\n",
      " 30  PECAN_ALG_END            59 non-null      float64\n",
      " 31  PISTACH_ALG_START        369 non-null     float64\n",
      " 32  PISTACH_ALG_END          82 non-null      float64\n",
      " 33  ALMOND_ALG_START         386 non-null     float64\n",
      " 34  ALMOND_ALG_END           117 non-null     float64\n",
      " 35  BRAZIL_ALG_START         68 non-null      float64\n",
      " 36  BRAZIL_ALG_END           19 non-null      float64\n",
      " 37  HAZELNUT_ALG_START       253 non-null     float64\n",
      " 38  HAZELNUT_ALG_END         52 non-null      float64\n",
      " 39  CASHEW_ALG_START         561 non-null     float64\n",
      " 40  CASHEW_ALG_END           121 non-null     float64\n",
      " 41  ATOPIC_DERM_START        49515 non-null   float64\n",
      " 42  ATOPIC_DERM_END          41732 non-null   float64\n",
      " 43  ALLERGIC_RHINITIS_START  55567 non-null   float64\n",
      " 44  ALLERGIC_RHINITIS_END    25326 non-null   float64\n",
      " 45  ASTHMA_START             63874 non-null   float64\n",
      " 46  ASTHMA_END               25465 non-null   float64\n",
      " 47  FIRST_ASTHMARX           117550 non-null  float64\n",
      " 48  LAST_ASTHMARX            117550 non-null  float64\n",
      " 49  NUM_ASTHMARX             117550 non-null  float64\n",
      "dtypes: bool(1), float64(43), int64(2), object(4)\n",
      "memory usage: 124.9+ MB\n"
     ]
    }
   ],
   "source": [
    "df=pd.read_csv(\"food-allergy-analysis-Zenodo.csv\")\n",
    "df.info()"
   ]
  },
  {
   "cell_type": "code",
   "execution_count": 35,
   "metadata": {},
   "outputs": [
    {
     "data": {
      "text/html": [
       "<div>\n",
       "<style scoped>\n",
       "    .dataframe tbody tr th:only-of-type {\n",
       "        vertical-align: middle;\n",
       "    }\n",
       "\n",
       "    .dataframe tbody tr th {\n",
       "        vertical-align: top;\n",
       "    }\n",
       "\n",
       "    .dataframe thead th {\n",
       "        text-align: right;\n",
       "    }\n",
       "</style>\n",
       "<table border=\"1\" class=\"dataframe\">\n",
       "  <thead>\n",
       "    <tr style=\"text-align: right;\">\n",
       "      <th></th>\n",
       "      <th>SUBJECT_ID</th>\n",
       "      <th>BIRTH_YEAR</th>\n",
       "      <th>GENDER_FACTOR</th>\n",
       "      <th>RACE_FACTOR</th>\n",
       "      <th>ETHNICITY_FACTOR</th>\n",
       "      <th>PAYER_FACTOR</th>\n",
       "      <th>ATOPIC_MARCH_COHORT</th>\n",
       "      <th>AGE_START_YEARS</th>\n",
       "      <th>AGE_END_YEARS</th>\n",
       "      <th>SHELLFISH_ALG_START</th>\n",
       "      <th>...</th>\n",
       "      <th>CASHEW_ALG_END</th>\n",
       "      <th>ATOPIC_DERM_START</th>\n",
       "      <th>ATOPIC_DERM_END</th>\n",
       "      <th>ALLERGIC_RHINITIS_START</th>\n",
       "      <th>ALLERGIC_RHINITIS_END</th>\n",
       "      <th>ASTHMA_START</th>\n",
       "      <th>ASTHMA_END</th>\n",
       "      <th>FIRST_ASTHMARX</th>\n",
       "      <th>LAST_ASTHMARX</th>\n",
       "      <th>NUM_ASTHMARX</th>\n",
       "    </tr>\n",
       "  </thead>\n",
       "  <tbody>\n",
       "    <tr>\n",
       "      <th>0</th>\n",
       "      <td>1</td>\n",
       "      <td>2006</td>\n",
       "      <td>S1 - Female</td>\n",
       "      <td>R1 - Black</td>\n",
       "      <td>E0 - Non-Hispanic</td>\n",
       "      <td>P1 - Medicaid</td>\n",
       "      <td>False</td>\n",
       "      <td>0.093087</td>\n",
       "      <td>3.164956</td>\n",
       "      <td>NaN</td>\n",
       "      <td>...</td>\n",
       "      <td>NaN</td>\n",
       "      <td>NaN</td>\n",
       "      <td>NaN</td>\n",
       "      <td>NaN</td>\n",
       "      <td>NaN</td>\n",
       "      <td>NaN</td>\n",
       "      <td>NaN</td>\n",
       "      <td>NaN</td>\n",
       "      <td>NaN</td>\n",
       "      <td>NaN</td>\n",
       "    </tr>\n",
       "    <tr>\n",
       "      <th>1</th>\n",
       "      <td>2</td>\n",
       "      <td>1994</td>\n",
       "      <td>S1 - Female</td>\n",
       "      <td>R0 - White</td>\n",
       "      <td>E0 - Non-Hispanic</td>\n",
       "      <td>P0 - Non-Medicaid</td>\n",
       "      <td>False</td>\n",
       "      <td>12.232717</td>\n",
       "      <td>18.880219</td>\n",
       "      <td>NaN</td>\n",
       "      <td>...</td>\n",
       "      <td>NaN</td>\n",
       "      <td>NaN</td>\n",
       "      <td>NaN</td>\n",
       "      <td>NaN</td>\n",
       "      <td>NaN</td>\n",
       "      <td>NaN</td>\n",
       "      <td>NaN</td>\n",
       "      <td>12.262834</td>\n",
       "      <td>18.880219</td>\n",
       "      <td>2.0</td>\n",
       "    </tr>\n",
       "    <tr>\n",
       "      <th>2</th>\n",
       "      <td>3</td>\n",
       "      <td>2006</td>\n",
       "      <td>S0 - Male</td>\n",
       "      <td>R0 - White</td>\n",
       "      <td>E1 - Hispanic</td>\n",
       "      <td>P0 - Non-Medicaid</td>\n",
       "      <td>True</td>\n",
       "      <td>0.010951</td>\n",
       "      <td>6.726899</td>\n",
       "      <td>NaN</td>\n",
       "      <td>...</td>\n",
       "      <td>NaN</td>\n",
       "      <td>4.884326</td>\n",
       "      <td>NaN</td>\n",
       "      <td>3.917864</td>\n",
       "      <td>6.157426</td>\n",
       "      <td>5.127995</td>\n",
       "      <td>NaN</td>\n",
       "      <td>1.404517</td>\n",
       "      <td>6.157426</td>\n",
       "      <td>4.0</td>\n",
       "    </tr>\n",
       "    <tr>\n",
       "      <th>3</th>\n",
       "      <td>4</td>\n",
       "      <td>2004</td>\n",
       "      <td>S0 - Male</td>\n",
       "      <td>R4 - Unknown</td>\n",
       "      <td>E1 - Hispanic</td>\n",
       "      <td>P0 - Non-Medicaid</td>\n",
       "      <td>False</td>\n",
       "      <td>2.398357</td>\n",
       "      <td>9.111567</td>\n",
       "      <td>NaN</td>\n",
       "      <td>...</td>\n",
       "      <td>NaN</td>\n",
       "      <td>NaN</td>\n",
       "      <td>NaN</td>\n",
       "      <td>NaN</td>\n",
       "      <td>NaN</td>\n",
       "      <td>NaN</td>\n",
       "      <td>NaN</td>\n",
       "      <td>NaN</td>\n",
       "      <td>NaN</td>\n",
       "      <td>NaN</td>\n",
       "    </tr>\n",
       "    <tr>\n",
       "      <th>4</th>\n",
       "      <td>5</td>\n",
       "      <td>2006</td>\n",
       "      <td>S1 - Female</td>\n",
       "      <td>R1 - Black</td>\n",
       "      <td>E0 - Non-Hispanic</td>\n",
       "      <td>P0 - Non-Medicaid</td>\n",
       "      <td>False</td>\n",
       "      <td>0.013689</td>\n",
       "      <td>6.193018</td>\n",
       "      <td>NaN</td>\n",
       "      <td>...</td>\n",
       "      <td>NaN</td>\n",
       "      <td>NaN</td>\n",
       "      <td>NaN</td>\n",
       "      <td>NaN</td>\n",
       "      <td>NaN</td>\n",
       "      <td>NaN</td>\n",
       "      <td>NaN</td>\n",
       "      <td>NaN</td>\n",
       "      <td>NaN</td>\n",
       "      <td>NaN</td>\n",
       "    </tr>\n",
       "  </tbody>\n",
       "</table>\n",
       "<p>5 rows × 50 columns</p>\n",
       "</div>"
      ],
      "text/plain": [
       "   SUBJECT_ID  BIRTH_YEAR GENDER_FACTOR   RACE_FACTOR   ETHNICITY_FACTOR  \\\n",
       "0           1        2006   S1 - Female    R1 - Black  E0 - Non-Hispanic   \n",
       "1           2        1994   S1 - Female    R0 - White  E0 - Non-Hispanic   \n",
       "2           3        2006     S0 - Male    R0 - White      E1 - Hispanic   \n",
       "3           4        2004     S0 - Male  R4 - Unknown      E1 - Hispanic   \n",
       "4           5        2006   S1 - Female    R1 - Black  E0 - Non-Hispanic   \n",
       "\n",
       "        PAYER_FACTOR  ATOPIC_MARCH_COHORT  AGE_START_YEARS  AGE_END_YEARS  \\\n",
       "0      P1 - Medicaid                False         0.093087       3.164956   \n",
       "1  P0 - Non-Medicaid                False        12.232717      18.880219   \n",
       "2  P0 - Non-Medicaid                 True         0.010951       6.726899   \n",
       "3  P0 - Non-Medicaid                False         2.398357       9.111567   \n",
       "4  P0 - Non-Medicaid                False         0.013689       6.193018   \n",
       "\n",
       "   SHELLFISH_ALG_START  ...  CASHEW_ALG_END  ATOPIC_DERM_START  \\\n",
       "0                  NaN  ...             NaN                NaN   \n",
       "1                  NaN  ...             NaN                NaN   \n",
       "2                  NaN  ...             NaN           4.884326   \n",
       "3                  NaN  ...             NaN                NaN   \n",
       "4                  NaN  ...             NaN                NaN   \n",
       "\n",
       "   ATOPIC_DERM_END  ALLERGIC_RHINITIS_START  ALLERGIC_RHINITIS_END  \\\n",
       "0              NaN                      NaN                    NaN   \n",
       "1              NaN                      NaN                    NaN   \n",
       "2              NaN                 3.917864               6.157426   \n",
       "3              NaN                      NaN                    NaN   \n",
       "4              NaN                      NaN                    NaN   \n",
       "\n",
       "   ASTHMA_START  ASTHMA_END  FIRST_ASTHMARX  LAST_ASTHMARX  NUM_ASTHMARX  \n",
       "0           NaN         NaN             NaN            NaN           NaN  \n",
       "1           NaN         NaN       12.262834      18.880219           2.0  \n",
       "2      5.127995         NaN        1.404517       6.157426           4.0  \n",
       "3           NaN         NaN             NaN            NaN           NaN  \n",
       "4           NaN         NaN             NaN            NaN           NaN  \n",
       "\n",
       "[5 rows x 50 columns]"
      ]
     },
     "execution_count": 35,
     "metadata": {},
     "output_type": "execute_result"
    }
   ],
   "source": [
    "df.head()"
   ]
  },
  {
   "cell_type": "markdown",
   "metadata": {},
   "source": [
    "### Preparing the dataset"
   ]
  },
  {
   "cell_type": "markdown",
   "metadata": {},
   "source": [
    "We can see that we have variables that aren't numerical so we have to change that :"
   ]
  },
  {
   "cell_type": "code",
   "execution_count": 36,
   "metadata": {},
   "outputs": [],
   "source": [
    "#We use the get_dummies function \n",
    "df=pd.get_dummies(df,columns=[\"GENDER_FACTOR\",\"ETHNICITY_FACTOR\",\"RACE_FACTOR\",\"PAYER_FACTOR\",\"ATOPIC_MARCH_COHORT\"],dtype=int)\n",
    "#For the columns that had only two optiions, we only keep one of the two resulting columns\n",
    "df.drop([\"GENDER_FACTOR_S1 - Female\",\"ETHNICITY_FACTOR_E0 - Non-Hispanic\",\"PAYER_FACTOR_P0 - Non-Medicaid\",\"ATOPIC_MARCH_COHORT_False\"],axis=\"columns\",inplace=True)"
   ]
  },
  {
   "cell_type": "code",
   "execution_count": 37,
   "metadata": {},
   "outputs": [
    {
     "name": "stdout",
     "output_type": "stream",
     "text": [
      "<class 'pandas.core.frame.DataFrame'>\n",
      "RangeIndex: 333200 entries, 0 to 333199\n",
      "Data columns (total 54 columns):\n",
      " #   Column                                      Non-Null Count   Dtype  \n",
      "---  ------                                      --------------   -----  \n",
      " 0   SUBJECT_ID                                  333200 non-null  int64  \n",
      " 1   BIRTH_YEAR                                  333200 non-null  int64  \n",
      " 2   AGE_START_YEARS                             333200 non-null  float64\n",
      " 3   AGE_END_YEARS                               333200 non-null  float64\n",
      " 4   SHELLFISH_ALG_START                         5246 non-null    float64\n",
      " 5   SHELLFISH_ALG_END                           1051 non-null    float64\n",
      " 6   FISH_ALG_START                              1796 non-null    float64\n",
      " 7   FISH_ALG_END                                527 non-null     float64\n",
      " 8   MILK_ALG_START                              7289 non-null    float64\n",
      " 9   MILK_ALG_END                                4580 non-null    float64\n",
      " 10  SOY_ALG_START                               2419 non-null    float64\n",
      " 11  SOY_ALG_END                                 1431 non-null    float64\n",
      " 12  EGG_ALG_START                               6065 non-null    float64\n",
      " 13  EGG_ALG_END                                 3293 non-null    float64\n",
      " 14  WHEAT_ALG_START                             1146 non-null    float64\n",
      " 15  WHEAT_ALG_END                               688 non-null     float64\n",
      " 16  PEANUT_ALG_START                            8653 non-null    float64\n",
      " 17  PEANUT_ALG_END                              2092 non-null    float64\n",
      " 18  SESAME_ALG_START                            766 non-null     float64\n",
      " 19  SESAME_ALG_END                              178 non-null     float64\n",
      " 20  TREENUT_ALG_START                           1 non-null       float64\n",
      " 21  TREENUT_ALG_END                             0 non-null       float64\n",
      " 22  WALNUT_ALG_START                            704 non-null     float64\n",
      " 23  WALNUT_ALG_END                              166 non-null     float64\n",
      " 24  PECAN_ALG_START                             285 non-null     float64\n",
      " 25  PECAN_ALG_END                               59 non-null      float64\n",
      " 26  PISTACH_ALG_START                           369 non-null     float64\n",
      " 27  PISTACH_ALG_END                             82 non-null      float64\n",
      " 28  ALMOND_ALG_START                            386 non-null     float64\n",
      " 29  ALMOND_ALG_END                              117 non-null     float64\n",
      " 30  BRAZIL_ALG_START                            68 non-null      float64\n",
      " 31  BRAZIL_ALG_END                              19 non-null      float64\n",
      " 32  HAZELNUT_ALG_START                          253 non-null     float64\n",
      " 33  HAZELNUT_ALG_END                            52 non-null      float64\n",
      " 34  CASHEW_ALG_START                            561 non-null     float64\n",
      " 35  CASHEW_ALG_END                              121 non-null     float64\n",
      " 36  ATOPIC_DERM_START                           49515 non-null   float64\n",
      " 37  ATOPIC_DERM_END                             41732 non-null   float64\n",
      " 38  ALLERGIC_RHINITIS_START                     55567 non-null   float64\n",
      " 39  ALLERGIC_RHINITIS_END                       25326 non-null   float64\n",
      " 40  ASTHMA_START                                63874 non-null   float64\n",
      " 41  ASTHMA_END                                  25465 non-null   float64\n",
      " 42  FIRST_ASTHMARX                              117550 non-null  float64\n",
      " 43  LAST_ASTHMARX                               117550 non-null  float64\n",
      " 44  NUM_ASTHMARX                                117550 non-null  float64\n",
      " 45  GENDER_FACTOR_S0 - Male                     333200 non-null  int32  \n",
      " 46  ETHNICITY_FACTOR_E1 - Hispanic              333200 non-null  int32  \n",
      " 47  RACE_FACTOR_R0 - White                      333200 non-null  int32  \n",
      " 48  RACE_FACTOR_R1 - Black                      333200 non-null  int32  \n",
      " 49  RACE_FACTOR_R2 - Asian or Pacific Islander  333200 non-null  int32  \n",
      " 50  RACE_FACTOR_R3 - Other                      333200 non-null  int32  \n",
      " 51  RACE_FACTOR_R4 - Unknown                    333200 non-null  int32  \n",
      " 52  PAYER_FACTOR_P1 - Medicaid                  333200 non-null  int32  \n",
      " 53  ATOPIC_MARCH_COHORT_True                    333200 non-null  int32  \n",
      "dtypes: float64(43), int32(9), int64(2)\n",
      "memory usage: 125.8 MB\n"
     ]
    }
   ],
   "source": [
    "df.info()"
   ]
  },
  {
   "cell_type": "markdown",
   "metadata": {},
   "source": [
    "Lastly we can also see that we have a lot of NaN values , so we will replace them with zeros instead :"
   ]
  },
  {
   "cell_type": "code",
   "execution_count": 40,
   "metadata": {},
   "outputs": [],
   "source": [
    "df=df.fillna(0)"
   ]
  },
  {
   "cell_type": "markdown",
   "metadata": {},
   "source": [
    "### Spliting the data"
   ]
  },
  {
   "cell_type": "code",
   "execution_count": 41,
   "metadata": {},
   "outputs": [],
   "source": [
    "x=df.iloc[:,:-1].values\n",
    "y=df.iloc[:,-1:].values\n",
    "\n",
    "x_train,x_test,y_train,y_test=train_test_split(x,y,test_size=0.2,random_state=0)"
   ]
  },
  {
   "cell_type": "markdown",
   "metadata": {},
   "source": [
    "### Building The logistic model"
   ]
  },
  {
   "cell_type": "code",
   "execution_count": 43,
   "metadata": {},
   "outputs": [],
   "source": [
    "sk_model = LogisticRegression()"
   ]
  },
  {
   "cell_type": "code",
   "execution_count": 44,
   "metadata": {},
   "outputs": [
    {
     "name": "stderr",
     "output_type": "stream",
     "text": [
      "C:\\Users\\Crash\\anaconda3\\lib\\site-packages\\sklearn\\utils\\validation.py:63: DataConversionWarning: A column-vector y was passed when a 1d array was expected. Please change the shape of y to (n_samples, ), for example using ravel().\n",
      "  return f(*args, **kwargs)\n"
     ]
    },
    {
     "data": {
      "text/plain": [
       "LogisticRegression()"
      ]
     },
     "execution_count": 44,
     "metadata": {},
     "output_type": "execute_result"
    }
   ],
   "source": [
    "sk_model.fit(x_train,y_train)"
   ]
  },
  {
   "cell_type": "code",
   "execution_count": 45,
   "metadata": {},
   "outputs": [],
   "source": [
    "y_pred=sk_model.predict(x_test)"
   ]
  },
  {
   "cell_type": "code",
   "execution_count": 49,
   "metadata": {},
   "outputs": [
    {
     "name": "stdout",
     "output_type": "stream",
     "text": [
      "Accuracy on test set is 90.93\n"
     ]
    }
   ],
   "source": [
    "acc=get_accuracy(y_pred,y_test)"
   ]
  },
  {
   "cell_type": "markdown",
   "metadata": {},
   "source": [
    "We got an accuracy of 91% which is an excellent result"
   ]
  }
 ],
 "metadata": {
  "interpreter": {
   "hash": "c44d6146bfc6659595e3719e297de01eff5116a4922f512294f41f3d0d00b62e"
  },
  "kernelspec": {
   "display_name": "Python 3.9.7 ('base')",
   "language": "python",
   "name": "python3"
  },
  "language_info": {
   "codemirror_mode": {
    "name": "ipython",
    "version": 3
   },
   "file_extension": ".py",
   "mimetype": "text/x-python",
   "name": "python",
   "nbconvert_exporter": "python",
   "pygments_lexer": "ipython3",
   "version": "3.9.7"
  },
  "orig_nbformat": 4
 },
 "nbformat": 4,
 "nbformat_minor": 2
}
