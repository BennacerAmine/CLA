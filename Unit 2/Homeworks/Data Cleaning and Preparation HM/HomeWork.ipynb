{
 "cells": [
  {
   "cell_type": "markdown",
   "metadata": {},
   "source": [
    "Creating and activating the environement"
   ]
  },
  {
   "cell_type": "code",
   "execution_count": 1,
   "metadata": {},
   "outputs": [],
   "source": [
    "!python -m venv myenv\n",
    "!myenv\\Scripts\\activate.bat"
   ]
  },
  {
   "cell_type": "markdown",
   "metadata": {},
   "source": [
    "Installing Pandas"
   ]
  },
  {
   "cell_type": "code",
   "execution_count": 2,
   "metadata": {},
   "outputs": [
    {
     "name": "stdout",
     "output_type": "stream",
     "text": [
      "Requirement already satisfied: pandas in c:\\users\\crash\\appdata\\local\\programs\\python\\python39\\lib\\site-packages (1.4.0)Note: you may need to restart the kernel to use updated packages.\n"
     ]
    },
    {
     "name": "stderr",
     "output_type": "stream",
     "text": [
      "WARNING: You are using pip version 20.2.3; however, version 22.0.3 is available.\n",
      "You should consider upgrading via the 'C:\\Users\\Crash\\AppData\\Local\\Programs\\Python\\Python39\\python.exe -m pip install --upgrade pip' command.\n"
     ]
    },
    {
     "name": "stdout",
     "output_type": "stream",
     "text": [
      "\n",
      "Requirement already satisfied: pytz>=2020.1 in c:\\users\\crash\\appdata\\local\\programs\\python\\python39\\lib\\site-packages (from pandas) (2021.3)\n",
      "Requirement already satisfied: python-dateutil>=2.8.1 in c:\\users\\crash\\appdata\\local\\programs\\python\\python39\\lib\\site-packages (from pandas) (2.8.2)\n",
      "Requirement already satisfied: numpy>=1.18.5; platform_machine != \"aarch64\" and platform_machine != \"arm64\" and python_version < \"3.10\" in c:\\users\\crash\\appdata\\local\\programs\\python\\python39\\lib\\site-packages (from pandas) (1.22.1)\n",
      "Requirement already satisfied: six>=1.5 in c:\\users\\crash\\appdata\\local\\programs\\python\\python39\\lib\\site-packages (from python-dateutil>=2.8.1->pandas) (1.16.0)\n"
     ]
    }
   ],
   "source": [
    "%pip install pandas"
   ]
  },
  {
   "cell_type": "markdown",
   "metadata": {},
   "source": [
    "Importing the libraries"
   ]
  },
  {
   "cell_type": "code",
   "execution_count": 3,
   "metadata": {},
   "outputs": [],
   "source": [
    "import pandas as pd\n",
    "import numpy as np"
   ]
  },
  {
   "cell_type": "markdown",
   "metadata": {},
   "source": [
    "Reading the DataFrame\n"
   ]
  },
  {
   "cell_type": "code",
   "execution_count": 4,
   "metadata": {},
   "outputs": [
    {
     "name": "stdout",
     "output_type": "stream",
     "text": [
      "<class 'pandas.core.frame.DataFrame'>\n",
      "RangeIndex: 41415 entries, 0 to 41414\n",
      "Data columns (total 16 columns):\n",
      " #   Column                  Non-Null Count  Dtype  \n",
      "---  ------                  --------------  -----  \n",
      " 0   video_id                41415 non-null  object \n",
      " 1   trending_date           40949 non-null  object \n",
      " 2   title                   40949 non-null  object \n",
      " 3   channel_title           40949 non-null  object \n",
      " 4   category_id             40949 non-null  float64\n",
      " 5   publish_time            40949 non-null  object \n",
      " 6   tags                    40949 non-null  object \n",
      " 7   views                   40949 non-null  float64\n",
      " 8   likes                   40949 non-null  float64\n",
      " 9   dislikes                40949 non-null  float64\n",
      " 10  comment_count           40949 non-null  float64\n",
      " 11  thumbnail_link          40949 non-null  object \n",
      " 12  comments_disabled       40949 non-null  object \n",
      " 13  ratings_disabled        40949 non-null  object \n",
      " 14  video_error_or_removed  40949 non-null  object \n",
      " 15  description             40379 non-null  object \n",
      "dtypes: float64(5), object(11)\n",
      "memory usage: 5.1+ MB\n"
     ]
    }
   ],
   "source": [
    "df = pd.read_csv('videosUS.csv')\n",
    "df.info()"
   ]
  },
  {
   "cell_type": "markdown",
   "metadata": {},
   "source": [
    "1) Missing values"
   ]
  },
  {
   "cell_type": "code",
   "execution_count": 5,
   "metadata": {},
   "outputs": [
    {
     "data": {
      "text/plain": [
       "video_id                     0\n",
       "trending_date              466\n",
       "title                      466\n",
       "channel_title              466\n",
       "category_id                466\n",
       "publish_time               466\n",
       "tags                       466\n",
       "views                      466\n",
       "likes                      466\n",
       "dislikes                   466\n",
       "comment_count              466\n",
       "thumbnail_link             466\n",
       "comments_disabled          466\n",
       "ratings_disabled           466\n",
       "video_error_or_removed     466\n",
       "description               1036\n",
       "dtype: int64"
      ]
     },
     "execution_count": 5,
     "metadata": {},
     "output_type": "execute_result"
    }
   ],
   "source": [
    "df.isna().sum() #Per column"
   ]
  },
  {
   "cell_type": "code",
   "execution_count": 6,
   "metadata": {},
   "outputs": [
    {
     "data": {
      "text/plain": [
       "7560"
      ]
     },
     "execution_count": 6,
     "metadata": {},
     "output_type": "execute_result"
    }
   ],
   "source": [
    "df.isna().sum().sum() #In total"
   ]
  },
  {
   "cell_type": "markdown",
   "metadata": {},
   "source": [
    "THE ASSEMPTIONS :"
   ]
  },
  {
   "cell_type": "markdown",
   "metadata": {},
   "source": [
    "Based on the data collected we can see that the number of missing values in each column is the same (except for the last one), which means that the probability of it being MCAR is unlikely, but still could be due to losses during the transfer.\n",
    "It could also be related to how old these videos are since the way they work has changed with time. So an MAR or MNAR could be possible."
   ]
  },
  {
   "cell_type": "markdown",
   "metadata": {},
   "source": [
    "2-1) Mean"
   ]
  },
  {
   "cell_type": "code",
   "execution_count": 7,
   "metadata": {},
   "outputs": [
    {
     "name": "stdout",
     "output_type": "stream",
     "text": [
      "Category_id's mean\n"
     ]
    },
    {
     "data": {
      "text/plain": [
       "19.97242911914821"
      ]
     },
     "execution_count": 7,
     "metadata": {},
     "output_type": "execute_result"
    }
   ],
   "source": [
    "print(\"Category_id's mean\")\n",
    "df[\"category_id\"].mean()"
   ]
  },
  {
   "cell_type": "code",
   "execution_count": 8,
   "metadata": {},
   "outputs": [
    {
     "name": "stdout",
     "output_type": "stream",
     "text": [
      "views's mean\n"
     ]
    },
    {
     "data": {
      "text/plain": [
       "2360784.6382573447"
      ]
     },
     "execution_count": 8,
     "metadata": {},
     "output_type": "execute_result"
    }
   ],
   "source": [
    "print(\"views's mean\")\n",
    "df[\"views\"].mean()"
   ]
  },
  {
   "cell_type": "code",
   "execution_count": 9,
   "metadata": {},
   "outputs": [
    {
     "name": "stdout",
     "output_type": "stream",
     "text": [
      "likes's mean\n"
     ]
    },
    {
     "data": {
      "text/plain": [
       "74266.7024347359"
      ]
     },
     "execution_count": 9,
     "metadata": {},
     "output_type": "execute_result"
    }
   ],
   "source": [
    "print(\"likes's mean\")\n",
    "df[\"likes\"].mean()"
   ]
  },
  {
   "cell_type": "code",
   "execution_count": 10,
   "metadata": {},
   "outputs": [
    {
     "name": "stdout",
     "output_type": "stream",
     "text": [
      "dislikes's mean\n"
     ]
    },
    {
     "data": {
      "text/plain": [
       "3711.400888910596"
      ]
     },
     "execution_count": 10,
     "metadata": {},
     "output_type": "execute_result"
    }
   ],
   "source": [
    "print(\"dislikes's mean\")\n",
    "df[\"dislikes\"].mean()"
   ]
  },
  {
   "cell_type": "code",
   "execution_count": 11,
   "metadata": {},
   "outputs": [
    {
     "name": "stdout",
     "output_type": "stream",
     "text": [
      "comment_count's mean\n"
     ]
    },
    {
     "data": {
      "text/plain": [
       "8446.803682629612"
      ]
     },
     "execution_count": 11,
     "metadata": {},
     "output_type": "execute_result"
    }
   ],
   "source": [
    "print(\"comment_count's mean\")\n",
    "df[\"comment_count\"].mean()"
   ]
  },
  {
   "cell_type": "markdown",
   "metadata": {},
   "source": [
    "2-2) Median"
   ]
  },
  {
   "cell_type": "code",
   "execution_count": 12,
   "metadata": {},
   "outputs": [
    {
     "name": "stdout",
     "output_type": "stream",
     "text": [
      "Category_id's mediane\n"
     ]
    },
    {
     "data": {
      "text/plain": [
       "24.0"
      ]
     },
     "execution_count": 12,
     "metadata": {},
     "output_type": "execute_result"
    }
   ],
   "source": [
    "print(\"Category_id's mediane\")\n",
    "df[\"category_id\"].median()"
   ]
  },
  {
   "cell_type": "code",
   "execution_count": 13,
   "metadata": {},
   "outputs": [
    {
     "name": "stdout",
     "output_type": "stream",
     "text": [
      "views's mediane\n"
     ]
    },
    {
     "data": {
      "text/plain": [
       "681861.0"
      ]
     },
     "execution_count": 13,
     "metadata": {},
     "output_type": "execute_result"
    }
   ],
   "source": [
    "print(\"views's mediane\")\n",
    "df[\"views\"].median()"
   ]
  },
  {
   "cell_type": "code",
   "execution_count": 14,
   "metadata": {},
   "outputs": [
    {
     "name": "stdout",
     "output_type": "stream",
     "text": [
      "likes's mediane\n"
     ]
    },
    {
     "data": {
      "text/plain": [
       "18091.0"
      ]
     },
     "execution_count": 14,
     "metadata": {},
     "output_type": "execute_result"
    }
   ],
   "source": [
    "print(\"likes's mediane\")\n",
    "df[\"likes\"].median()"
   ]
  },
  {
   "cell_type": "code",
   "execution_count": 15,
   "metadata": {},
   "outputs": [
    {
     "name": "stdout",
     "output_type": "stream",
     "text": [
      "dislikes's mediane\n"
     ]
    },
    {
     "data": {
      "text/plain": [
       "3711.400888910596"
      ]
     },
     "execution_count": 15,
     "metadata": {},
     "output_type": "execute_result"
    }
   ],
   "source": [
    "print(\"dislikes's mediane\")\n",
    "df[\"dislikes\"].mean()"
   ]
  },
  {
   "cell_type": "code",
   "execution_count": 16,
   "metadata": {},
   "outputs": [
    {
     "name": "stdout",
     "output_type": "stream",
     "text": [
      "comment_count's mediane\n"
     ]
    },
    {
     "data": {
      "text/plain": [
       "8446.803682629612"
      ]
     },
     "execution_count": 16,
     "metadata": {},
     "output_type": "execute_result"
    }
   ],
   "source": [
    "print(\"comment_count's mediane\")\n",
    "df[\"comment_count\"].mean()"
   ]
  },
  {
   "cell_type": "markdown",
   "metadata": {},
   "source": [
    "2-3) Quartiles"
   ]
  },
  {
   "cell_type": "code",
   "execution_count": 17,
   "metadata": {},
   "outputs": [
    {
     "name": "stdout",
     "output_type": "stream",
     "text": [
      "Category_id's quartiles\n"
     ]
    },
    {
     "data": {
      "text/plain": [
       "0.25    17.0\n",
       "0.50    24.0\n",
       "0.75    25.0\n",
       "Name: category_id, dtype: float64"
      ]
     },
     "execution_count": 17,
     "metadata": {},
     "output_type": "execute_result"
    }
   ],
   "source": [
    "print(\"Category_id's quartiles\")\n",
    "df[\"category_id\"].quantile([0.25,0.5,0.75])"
   ]
  },
  {
   "cell_type": "code",
   "execution_count": 18,
   "metadata": {},
   "outputs": [
    {
     "name": "stdout",
     "output_type": "stream",
     "text": [
      "views's quartiles\n"
     ]
    },
    {
     "data": {
      "text/plain": [
       "0.25     242329.0\n",
       "0.50     681861.0\n",
       "0.75    1823157.0\n",
       "Name: views, dtype: float64"
      ]
     },
     "execution_count": 18,
     "metadata": {},
     "output_type": "execute_result"
    }
   ],
   "source": [
    "print(\"views's quartiles\")\n",
    "df[\"views\"].quantile([0.25,0.5,0.75])"
   ]
  },
  {
   "cell_type": "code",
   "execution_count": 19,
   "metadata": {},
   "outputs": [
    {
     "name": "stdout",
     "output_type": "stream",
     "text": [
      "likes's quartiles\n"
     ]
    },
    {
     "data": {
      "text/plain": [
       "0.25     5424.0\n",
       "0.50    18091.0\n",
       "0.75    55417.0\n",
       "Name: likes, dtype: float64"
      ]
     },
     "execution_count": 19,
     "metadata": {},
     "output_type": "execute_result"
    }
   ],
   "source": [
    "print(\"likes's quartiles\")\n",
    "df[\"likes\"].quantile([0.25,0.5,0.75])"
   ]
  },
  {
   "cell_type": "code",
   "execution_count": 20,
   "metadata": {},
   "outputs": [
    {
     "name": "stdout",
     "output_type": "stream",
     "text": [
      "dislikes's quartiles\n"
     ]
    },
    {
     "data": {
      "text/plain": [
       "0.25     202.0\n",
       "0.50     631.0\n",
       "0.75    1938.0\n",
       "Name: dislikes, dtype: float64"
      ]
     },
     "execution_count": 20,
     "metadata": {},
     "output_type": "execute_result"
    }
   ],
   "source": [
    "print(\"dislikes's quartiles\")\n",
    "df[\"dislikes\"].quantile([0.25,0.5,0.75])"
   ]
  },
  {
   "cell_type": "code",
   "execution_count": 21,
   "metadata": {},
   "outputs": [
    {
     "name": "stdout",
     "output_type": "stream",
     "text": [
      "comment_count's quartiles\n"
     ]
    },
    {
     "data": {
      "text/plain": [
       "0.25     614.0\n",
       "0.50    1856.0\n",
       "0.75    5755.0\n",
       "Name: comment_count, dtype: float64"
      ]
     },
     "execution_count": 21,
     "metadata": {},
     "output_type": "execute_result"
    }
   ],
   "source": [
    "print(\"comment_count's quartiles\")\n",
    "df[\"comment_count\"].quantile([0.25,0.5,0.75])"
   ]
  },
  {
   "cell_type": "markdown",
   "metadata": {},
   "source": [
    "3) DETECTING THE OUTLIERS :"
   ]
  },
  {
   "cell_type": "code",
   "execution_count": 22,
   "metadata": {},
   "outputs": [],
   "source": [
    "#We're using the zscore method\n",
    "df[\"category_id_zscore\"]=(df.category_id-df.category_id.mean())/df.category_id.std()\n",
    "df[\"views_zscore\"]=(df.views-df.views.mean())/df.views.std()\n",
    "df[\"likes_zscore\"]=(df.likes-df.likes.mean())/df.likes.std()\n",
    "df[\"dislikes_zscore\"]=(df.dislikes-df.dislikes.mean())/df.dislikes.std()\n",
    "df[\"comment_count_zscore\"]=(df.comment_count-df.comment_count.mean())/df.comment_count.std()\n"
   ]
  },
  {
   "cell_type": "markdown",
   "metadata": {},
   "source": [
    "DELETING THE OUTLIERS"
   ]
  },
  {
   "cell_type": "code",
   "execution_count": 23,
   "metadata": {},
   "outputs": [
    {
     "data": {
      "text/html": [
       "<div>\n",
       "<style scoped>\n",
       "    .dataframe tbody tr th:only-of-type {\n",
       "        vertical-align: middle;\n",
       "    }\n",
       "\n",
       "    .dataframe tbody tr th {\n",
       "        vertical-align: top;\n",
       "    }\n",
       "\n",
       "    .dataframe thead th {\n",
       "        text-align: right;\n",
       "    }\n",
       "</style>\n",
       "<table border=\"1\" class=\"dataframe\">\n",
       "  <thead>\n",
       "    <tr style=\"text-align: right;\">\n",
       "      <th></th>\n",
       "      <th>video_id</th>\n",
       "      <th>trending_date</th>\n",
       "      <th>title</th>\n",
       "      <th>channel_title</th>\n",
       "      <th>category_id</th>\n",
       "      <th>publish_time</th>\n",
       "      <th>tags</th>\n",
       "      <th>views</th>\n",
       "      <th>likes</th>\n",
       "      <th>dislikes</th>\n",
       "      <th>...</th>\n",
       "      <th>thumbnail_link</th>\n",
       "      <th>comments_disabled</th>\n",
       "      <th>ratings_disabled</th>\n",
       "      <th>video_error_or_removed</th>\n",
       "      <th>description</th>\n",
       "      <th>category_id_zscore</th>\n",
       "      <th>views_zscore</th>\n",
       "      <th>likes_zscore</th>\n",
       "      <th>dislikes_zscore</th>\n",
       "      <th>comment_count_zscore</th>\n",
       "    </tr>\n",
       "  </thead>\n",
       "  <tbody>\n",
       "    <tr>\n",
       "      <th>0</th>\n",
       "      <td>2kyS6SvSYSE</td>\n",
       "      <td>17.14.11</td>\n",
       "      <td>WE WANT TO TALK ABOUT OUR MARRIAGE</td>\n",
       "      <td>CaseyNeistat</td>\n",
       "      <td>22.0</td>\n",
       "      <td>2017-11-13T17:13:01.000Z</td>\n",
       "      <td>SHANtell martin</td>\n",
       "      <td>748374.0</td>\n",
       "      <td>57527.0</td>\n",
       "      <td>2966.0</td>\n",
       "      <td>...</td>\n",
       "      <td>https://i.ytimg.com/vi/2kyS6SvSYSE/default.jpg</td>\n",
       "      <td>False</td>\n",
       "      <td>False</td>\n",
       "      <td>False</td>\n",
       "      <td>SHANTELL'S CHANNEL - https://www.youtube.com/s...</td>\n",
       "      <td>0.267902</td>\n",
       "      <td>-0.218067</td>\n",
       "      <td>-0.073136</td>\n",
       "      <td>-0.025677</td>\n",
       "      <td>0.200564</td>\n",
       "    </tr>\n",
       "    <tr>\n",
       "      <th>1</th>\n",
       "      <td>1ZAPwfrtAFY</td>\n",
       "      <td>17.14.11</td>\n",
       "      <td>The Trump Presidency: Last Week Tonight with J...</td>\n",
       "      <td>LastWeekTonight</td>\n",
       "      <td>24.0</td>\n",
       "      <td>2017-11-13T07:30:00.000Z</td>\n",
       "      <td>last week tonight trump presidency|\"last week ...</td>\n",
       "      <td>2418783.0</td>\n",
       "      <td>97185.0</td>\n",
       "      <td>6146.0</td>\n",
       "      <td>...</td>\n",
       "      <td>https://i.ytimg.com/vi/1ZAPwfrtAFY/default.jpg</td>\n",
       "      <td>False</td>\n",
       "      <td>False</td>\n",
       "      <td>False</td>\n",
       "      <td>One year after the presidential election, John...</td>\n",
       "      <td>0.532161</td>\n",
       "      <td>0.007844</td>\n",
       "      <td>0.100130</td>\n",
       "      <td>0.083866</td>\n",
       "      <td>0.113709</td>\n",
       "    </tr>\n",
       "    <tr>\n",
       "      <th>2</th>\n",
       "      <td>5qpjK5DgCt4</td>\n",
       "      <td>17.14.11</td>\n",
       "      <td>Racist Superman | Rudy Mancuso, King Bach &amp; Le...</td>\n",
       "      <td>Rudy Mancuso</td>\n",
       "      <td>23.0</td>\n",
       "      <td>2017-11-12T19:05:24.000Z</td>\n",
       "      <td>racist superman|\"rudy\"|\"mancuso\"|\"king\"|\"bach\"...</td>\n",
       "      <td>3191434.0</td>\n",
       "      <td>146033.0</td>\n",
       "      <td>5339.0</td>\n",
       "      <td>...</td>\n",
       "      <td>https://i.ytimg.com/vi/5qpjK5DgCt4/default.jpg</td>\n",
       "      <td>False</td>\n",
       "      <td>False</td>\n",
       "      <td>False</td>\n",
       "      <td>WATCH MY PREVIOUS VIDEO ▶ \\n\\nSUBSCRIBE ► http...</td>\n",
       "      <td>0.400032</td>\n",
       "      <td>0.112339</td>\n",
       "      <td>0.313547</td>\n",
       "      <td>0.056067</td>\n",
       "      <td>-0.007101</td>\n",
       "    </tr>\n",
       "    <tr>\n",
       "      <th>3</th>\n",
       "      <td>puqaWrEC7tY</td>\n",
       "      <td>17.14.11</td>\n",
       "      <td>Nickelback Lyrics: Real or Fake?</td>\n",
       "      <td>Good Mythical Morning</td>\n",
       "      <td>24.0</td>\n",
       "      <td>2017-11-13T11:00:04.000Z</td>\n",
       "      <td>rhett and link|\"gmm\"|\"good mythical morning\"|\"...</td>\n",
       "      <td>343168.0</td>\n",
       "      <td>10172.0</td>\n",
       "      <td>666.0</td>\n",
       "      <td>...</td>\n",
       "      <td>https://i.ytimg.com/vi/puqaWrEC7tY/default.jpg</td>\n",
       "      <td>False</td>\n",
       "      <td>False</td>\n",
       "      <td>False</td>\n",
       "      <td>Today we find out if Link is a Nickelback amat...</td>\n",
       "      <td>0.532161</td>\n",
       "      <td>-0.272868</td>\n",
       "      <td>-0.280030</td>\n",
       "      <td>-0.104906</td>\n",
       "      <td>-0.168333</td>\n",
       "    </tr>\n",
       "    <tr>\n",
       "      <th>4</th>\n",
       "      <td>d380meD0W0M</td>\n",
       "      <td>17.14.11</td>\n",
       "      <td>I Dare You: GOING BALD!?</td>\n",
       "      <td>nigahiga</td>\n",
       "      <td>24.0</td>\n",
       "      <td>2017-11-12T18:01:41.000Z</td>\n",
       "      <td>ryan|\"higa\"|\"higatv\"|\"nigahiga\"|\"i dare you\"|\"...</td>\n",
       "      <td>2095731.0</td>\n",
       "      <td>132235.0</td>\n",
       "      <td>1989.0</td>\n",
       "      <td>...</td>\n",
       "      <td>https://i.ytimg.com/vi/d380meD0W0M/default.jpg</td>\n",
       "      <td>False</td>\n",
       "      <td>False</td>\n",
       "      <td>False</td>\n",
       "      <td>I know it's been a while since we did this sho...</td>\n",
       "      <td>0.532161</td>\n",
       "      <td>-0.035847</td>\n",
       "      <td>0.253263</td>\n",
       "      <td>-0.059332</td>\n",
       "      <td>0.242348</td>\n",
       "    </tr>\n",
       "    <tr>\n",
       "      <th>...</th>\n",
       "      <td>...</td>\n",
       "      <td>...</td>\n",
       "      <td>...</td>\n",
       "      <td>...</td>\n",
       "      <td>...</td>\n",
       "      <td>...</td>\n",
       "      <td>...</td>\n",
       "      <td>...</td>\n",
       "      <td>...</td>\n",
       "      <td>...</td>\n",
       "      <td>...</td>\n",
       "      <td>...</td>\n",
       "      <td>...</td>\n",
       "      <td>...</td>\n",
       "      <td>...</td>\n",
       "      <td>...</td>\n",
       "      <td>...</td>\n",
       "      <td>...</td>\n",
       "      <td>...</td>\n",
       "      <td>...</td>\n",
       "      <td>...</td>\n",
       "    </tr>\n",
       "    <tr>\n",
       "      <th>41409</th>\n",
       "      <td>1PhPYr_9zRY</td>\n",
       "      <td>18.14.06</td>\n",
       "      <td>BTS Plays With Puppies While Answering Fan Que...</td>\n",
       "      <td>BuzzFeed Celeb</td>\n",
       "      <td>22.0</td>\n",
       "      <td>2018-05-18T16:39:29.000Z</td>\n",
       "      <td>BuzzFeed|\"BuzzFeedVideo\"|\"Puppy Interview\"|\"pu...</td>\n",
       "      <td>8259128.0</td>\n",
       "      <td>645888.0</td>\n",
       "      <td>4052.0</td>\n",
       "      <td>...</td>\n",
       "      <td>https://i.ytimg.com/vi/1PhPYr_9zRY/default.jpg</td>\n",
       "      <td>False</td>\n",
       "      <td>False</td>\n",
       "      <td>False</td>\n",
       "      <td>BTS with the PPS, the puppies. These adorable ...</td>\n",
       "      <td>0.267902</td>\n",
       "      <td>0.797708</td>\n",
       "      <td>2.497413</td>\n",
       "      <td>0.011733</td>\n",
       "      <td>1.447034</td>\n",
       "    </tr>\n",
       "    <tr>\n",
       "      <th>41410</th>\n",
       "      <td>BZt0qjTWNhw</td>\n",
       "      <td>18.14.06</td>\n",
       "      <td>The Cat Who Caught the Laser</td>\n",
       "      <td>AaronsAnimals</td>\n",
       "      <td>15.0</td>\n",
       "      <td>2018-05-18T13:00:04.000Z</td>\n",
       "      <td>aarons animals|\"aarons\"|\"animals\"|\"cat\"|\"cats\"...</td>\n",
       "      <td>1685609.0</td>\n",
       "      <td>38160.0</td>\n",
       "      <td>1385.0</td>\n",
       "      <td>...</td>\n",
       "      <td>https://i.ytimg.com/vi/BZt0qjTWNhw/default.jpg</td>\n",
       "      <td>False</td>\n",
       "      <td>False</td>\n",
       "      <td>False</td>\n",
       "      <td>The Cat Who Caught the Laser - Aaron's Animals</td>\n",
       "      <td>-0.657005</td>\n",
       "      <td>-0.091313</td>\n",
       "      <td>-0.157750</td>\n",
       "      <td>-0.080139</td>\n",
       "      <td>-0.154681</td>\n",
       "    </tr>\n",
       "    <tr>\n",
       "      <th>41411</th>\n",
       "      <td>1h7KV2sjUWY</td>\n",
       "      <td>18.14.06</td>\n",
       "      <td>True Facts : Ant Mutualism</td>\n",
       "      <td>zefrank1</td>\n",
       "      <td>22.0</td>\n",
       "      <td>2018-05-18T01:00:06.000Z</td>\n",
       "      <td>[none]</td>\n",
       "      <td>1064798.0</td>\n",
       "      <td>60008.0</td>\n",
       "      <td>382.0</td>\n",
       "      <td>...</td>\n",
       "      <td>https://i.ytimg.com/vi/1h7KV2sjUWY/default.jpg</td>\n",
       "      <td>False</td>\n",
       "      <td>False</td>\n",
       "      <td>False</td>\n",
       "      <td>NaN</td>\n",
       "      <td>0.267902</td>\n",
       "      <td>-0.175273</td>\n",
       "      <td>-0.062296</td>\n",
       "      <td>-0.114689</td>\n",
       "      <td>-0.120511</td>\n",
       "    </tr>\n",
       "    <tr>\n",
       "      <th>41412</th>\n",
       "      <td>D6Oy4LfoqsU</td>\n",
       "      <td>18.14.06</td>\n",
       "      <td>I GAVE SAFIYA NYGAARD A PERFECT HAIR MAKEOVER ...</td>\n",
       "      <td>Brad Mondo</td>\n",
       "      <td>24.0</td>\n",
       "      <td>2018-05-18T17:34:22.000Z</td>\n",
       "      <td>I gave safiya nygaard a perfect hair makeover ...</td>\n",
       "      <td>1066451.0</td>\n",
       "      <td>48068.0</td>\n",
       "      <td>1032.0</td>\n",
       "      <td>...</td>\n",
       "      <td>https://i.ytimg.com/vi/D6Oy4LfoqsU/default.jpg</td>\n",
       "      <td>False</td>\n",
       "      <td>False</td>\n",
       "      <td>False</td>\n",
       "      <td>I had so much fun transforming Safiyas hair in...</td>\n",
       "      <td>0.532161</td>\n",
       "      <td>-0.175049</td>\n",
       "      <td>-0.114462</td>\n",
       "      <td>-0.092299</td>\n",
       "      <td>-0.119015</td>\n",
       "    </tr>\n",
       "    <tr>\n",
       "      <th>41413</th>\n",
       "      <td>oV0zkMe1K8s</td>\n",
       "      <td>18.14.06</td>\n",
       "      <td>How Black Panther Should Have Ended</td>\n",
       "      <td>How It Should Have Ended</td>\n",
       "      <td>1.0</td>\n",
       "      <td>2018-05-17T17:00:04.000Z</td>\n",
       "      <td>Black Panther|\"HISHE\"|\"Marvel\"|\"Infinity War\"|...</td>\n",
       "      <td>5660813.0</td>\n",
       "      <td>192957.0</td>\n",
       "      <td>2846.0</td>\n",
       "      <td>...</td>\n",
       "      <td>https://i.ytimg.com/vi/oV0zkMe1K8s/default.jpg</td>\n",
       "      <td>False</td>\n",
       "      <td>False</td>\n",
       "      <td>False</td>\n",
       "      <td>How Black Panther Should Have EndedWatch More ...</td>\n",
       "      <td>-2.506819</td>\n",
       "      <td>0.446305</td>\n",
       "      <td>0.518558</td>\n",
       "      <td>-0.029811</td>\n",
       "      <td>0.123995</td>\n",
       "    </tr>\n",
       "  </tbody>\n",
       "</table>\n",
       "<p>40029 rows × 21 columns</p>\n",
       "</div>"
      ],
      "text/plain": [
       "          video_id trending_date  \\\n",
       "0      2kyS6SvSYSE      17.14.11   \n",
       "1      1ZAPwfrtAFY      17.14.11   \n",
       "2      5qpjK5DgCt4      17.14.11   \n",
       "3      puqaWrEC7tY      17.14.11   \n",
       "4      d380meD0W0M      17.14.11   \n",
       "...            ...           ...   \n",
       "41409  1PhPYr_9zRY      18.14.06   \n",
       "41410  BZt0qjTWNhw      18.14.06   \n",
       "41411  1h7KV2sjUWY      18.14.06   \n",
       "41412  D6Oy4LfoqsU      18.14.06   \n",
       "41413  oV0zkMe1K8s      18.14.06   \n",
       "\n",
       "                                                   title  \\\n",
       "0                     WE WANT TO TALK ABOUT OUR MARRIAGE   \n",
       "1      The Trump Presidency: Last Week Tonight with J...   \n",
       "2      Racist Superman | Rudy Mancuso, King Bach & Le...   \n",
       "3                       Nickelback Lyrics: Real or Fake?   \n",
       "4                               I Dare You: GOING BALD!?   \n",
       "...                                                  ...   \n",
       "41409  BTS Plays With Puppies While Answering Fan Que...   \n",
       "41410                       The Cat Who Caught the Laser   \n",
       "41411                         True Facts : Ant Mutualism   \n",
       "41412  I GAVE SAFIYA NYGAARD A PERFECT HAIR MAKEOVER ...   \n",
       "41413                How Black Panther Should Have Ended   \n",
       "\n",
       "                  channel_title  category_id              publish_time  \\\n",
       "0                  CaseyNeistat         22.0  2017-11-13T17:13:01.000Z   \n",
       "1               LastWeekTonight         24.0  2017-11-13T07:30:00.000Z   \n",
       "2                  Rudy Mancuso         23.0  2017-11-12T19:05:24.000Z   \n",
       "3         Good Mythical Morning         24.0  2017-11-13T11:00:04.000Z   \n",
       "4                      nigahiga         24.0  2017-11-12T18:01:41.000Z   \n",
       "...                         ...          ...                       ...   \n",
       "41409            BuzzFeed Celeb         22.0  2018-05-18T16:39:29.000Z   \n",
       "41410             AaronsAnimals         15.0  2018-05-18T13:00:04.000Z   \n",
       "41411                  zefrank1         22.0  2018-05-18T01:00:06.000Z   \n",
       "41412                Brad Mondo         24.0  2018-05-18T17:34:22.000Z   \n",
       "41413  How It Should Have Ended          1.0  2018-05-17T17:00:04.000Z   \n",
       "\n",
       "                                                    tags      views     likes  \\\n",
       "0                                        SHANtell martin   748374.0   57527.0   \n",
       "1      last week tonight trump presidency|\"last week ...  2418783.0   97185.0   \n",
       "2      racist superman|\"rudy\"|\"mancuso\"|\"king\"|\"bach\"...  3191434.0  146033.0   \n",
       "3      rhett and link|\"gmm\"|\"good mythical morning\"|\"...   343168.0   10172.0   \n",
       "4      ryan|\"higa\"|\"higatv\"|\"nigahiga\"|\"i dare you\"|\"...  2095731.0  132235.0   \n",
       "...                                                  ...        ...       ...   \n",
       "41409  BuzzFeed|\"BuzzFeedVideo\"|\"Puppy Interview\"|\"pu...  8259128.0  645888.0   \n",
       "41410  aarons animals|\"aarons\"|\"animals\"|\"cat\"|\"cats\"...  1685609.0   38160.0   \n",
       "41411                                             [none]  1064798.0   60008.0   \n",
       "41412  I gave safiya nygaard a perfect hair makeover ...  1066451.0   48068.0   \n",
       "41413  Black Panther|\"HISHE\"|\"Marvel\"|\"Infinity War\"|...  5660813.0  192957.0   \n",
       "\n",
       "       dislikes  ...                                  thumbnail_link  \\\n",
       "0        2966.0  ...  https://i.ytimg.com/vi/2kyS6SvSYSE/default.jpg   \n",
       "1        6146.0  ...  https://i.ytimg.com/vi/1ZAPwfrtAFY/default.jpg   \n",
       "2        5339.0  ...  https://i.ytimg.com/vi/5qpjK5DgCt4/default.jpg   \n",
       "3         666.0  ...  https://i.ytimg.com/vi/puqaWrEC7tY/default.jpg   \n",
       "4        1989.0  ...  https://i.ytimg.com/vi/d380meD0W0M/default.jpg   \n",
       "...         ...  ...                                             ...   \n",
       "41409    4052.0  ...  https://i.ytimg.com/vi/1PhPYr_9zRY/default.jpg   \n",
       "41410    1385.0  ...  https://i.ytimg.com/vi/BZt0qjTWNhw/default.jpg   \n",
       "41411     382.0  ...  https://i.ytimg.com/vi/1h7KV2sjUWY/default.jpg   \n",
       "41412    1032.0  ...  https://i.ytimg.com/vi/D6Oy4LfoqsU/default.jpg   \n",
       "41413    2846.0  ...  https://i.ytimg.com/vi/oV0zkMe1K8s/default.jpg   \n",
       "\n",
       "      comments_disabled ratings_disabled video_error_or_removed  \\\n",
       "0                 False            False                  False   \n",
       "1                 False            False                  False   \n",
       "2                 False            False                  False   \n",
       "3                 False            False                  False   \n",
       "4                 False            False                  False   \n",
       "...                 ...              ...                    ...   \n",
       "41409             False            False                  False   \n",
       "41410             False            False                  False   \n",
       "41411             False            False                  False   \n",
       "41412             False            False                  False   \n",
       "41413             False            False                  False   \n",
       "\n",
       "                                             description category_id_zscore  \\\n",
       "0      SHANTELL'S CHANNEL - https://www.youtube.com/s...           0.267902   \n",
       "1      One year after the presidential election, John...           0.532161   \n",
       "2      WATCH MY PREVIOUS VIDEO ▶ \\n\\nSUBSCRIBE ► http...           0.400032   \n",
       "3      Today we find out if Link is a Nickelback amat...           0.532161   \n",
       "4      I know it's been a while since we did this sho...           0.532161   \n",
       "...                                                  ...                ...   \n",
       "41409  BTS with the PPS, the puppies. These adorable ...           0.267902   \n",
       "41410     The Cat Who Caught the Laser - Aaron's Animals          -0.657005   \n",
       "41411                                                NaN           0.267902   \n",
       "41412  I had so much fun transforming Safiyas hair in...           0.532161   \n",
       "41413  How Black Panther Should Have EndedWatch More ...          -2.506819   \n",
       "\n",
       "       views_zscore  likes_zscore  dislikes_zscore  comment_count_zscore  \n",
       "0         -0.218067     -0.073136        -0.025677              0.200564  \n",
       "1          0.007844      0.100130         0.083866              0.113709  \n",
       "2          0.112339      0.313547         0.056067             -0.007101  \n",
       "3         -0.272868     -0.280030        -0.104906             -0.168333  \n",
       "4         -0.035847      0.253263        -0.059332              0.242348  \n",
       "...             ...           ...              ...                   ...  \n",
       "41409      0.797708      2.497413         0.011733              1.447034  \n",
       "41410     -0.091313     -0.157750        -0.080139             -0.154681  \n",
       "41411     -0.175273     -0.062296        -0.114689             -0.120511  \n",
       "41412     -0.175049     -0.114462        -0.092299             -0.119015  \n",
       "41413      0.446305      0.518558        -0.029811              0.123995  \n",
       "\n",
       "[40029 rows x 21 columns]"
      ]
     },
     "execution_count": 23,
     "metadata": {},
     "output_type": "execute_result"
    }
   ],
   "source": [
    "df1=df[(abs(df[\"category_id_zscore\"])<3)&(abs(df[\"views_zscore\"])<3)&(abs(df[\"likes_zscore\"])<3)&(abs(df[\"dislikes_zscore\"])<3)&(abs(df[\"comment_count_zscore\"])<3)]\n",
    "df1"
   ]
  },
  {
   "cell_type": "markdown",
   "metadata": {},
   "source": [
    "4) The number of unique categories:"
   ]
  },
  {
   "cell_type": "code",
   "execution_count": 24,
   "metadata": {},
   "outputs": [
    {
     "data": {
      "text/plain": [
       "16"
      ]
     },
     "execution_count": 24,
     "metadata": {},
     "output_type": "execute_result"
    }
   ],
   "source": [
    "df.nunique()[\"category_id\"]"
   ]
  },
  {
   "cell_type": "markdown",
   "metadata": {},
   "source": [
    "5) Adjusting a column's type :"
   ]
  },
  {
   "cell_type": "markdown",
   "metadata": {},
   "source": [
    "We can change the 3 columns \"comments_disabled\",\"ratings_disabled\",\"video_error_or_removed\" into integers so they'll have 0 instead of flase and 1 instead of true as such :"
   ]
  },
  {
   "cell_type": "code",
   "execution_count": 42,
   "metadata": {},
   "outputs": [
    {
     "data": {
      "text/html": [
       "<div>\n",
       "<style scoped>\n",
       "    .dataframe tbody tr th:only-of-type {\n",
       "        vertical-align: middle;\n",
       "    }\n",
       "\n",
       "    .dataframe tbody tr th {\n",
       "        vertical-align: top;\n",
       "    }\n",
       "\n",
       "    .dataframe thead th {\n",
       "        text-align: right;\n",
       "    }\n",
       "</style>\n",
       "<table border=\"1\" class=\"dataframe\">\n",
       "  <thead>\n",
       "    <tr style=\"text-align: right;\">\n",
       "      <th></th>\n",
       "      <th>video_id</th>\n",
       "      <th>trending_date</th>\n",
       "      <th>title</th>\n",
       "      <th>channel_title</th>\n",
       "      <th>category_id</th>\n",
       "      <th>publish_time</th>\n",
       "      <th>tags</th>\n",
       "      <th>views</th>\n",
       "      <th>likes</th>\n",
       "      <th>dislikes</th>\n",
       "      <th>...</th>\n",
       "      <th>thumbnail_link</th>\n",
       "      <th>description</th>\n",
       "      <th>category_id_zscore</th>\n",
       "      <th>views_zscore</th>\n",
       "      <th>likes_zscore</th>\n",
       "      <th>dislikes_zscore</th>\n",
       "      <th>comment_count_zscore</th>\n",
       "      <th>comments_disabled_True</th>\n",
       "      <th>ratings_disabled_True</th>\n",
       "      <th>video_error_or_removed_True</th>\n",
       "    </tr>\n",
       "  </thead>\n",
       "  <tbody>\n",
       "    <tr>\n",
       "      <th>0</th>\n",
       "      <td>2kyS6SvSYSE</td>\n",
       "      <td>17.14.11</td>\n",
       "      <td>WE WANT TO TALK ABOUT OUR MARRIAGE</td>\n",
       "      <td>CaseyNeistat</td>\n",
       "      <td>22.0</td>\n",
       "      <td>2017-11-13T17:13:01.000Z</td>\n",
       "      <td>SHANtell martin</td>\n",
       "      <td>748374.0</td>\n",
       "      <td>57527.0</td>\n",
       "      <td>2966.0</td>\n",
       "      <td>...</td>\n",
       "      <td>https://i.ytimg.com/vi/2kyS6SvSYSE/default.jpg</td>\n",
       "      <td>SHANTELL'S CHANNEL - https://www.youtube.com/s...</td>\n",
       "      <td>0.267902</td>\n",
       "      <td>-0.218067</td>\n",
       "      <td>-0.073136</td>\n",
       "      <td>-0.025677</td>\n",
       "      <td>0.200564</td>\n",
       "      <td>0</td>\n",
       "      <td>0</td>\n",
       "      <td>0</td>\n",
       "    </tr>\n",
       "    <tr>\n",
       "      <th>1</th>\n",
       "      <td>1ZAPwfrtAFY</td>\n",
       "      <td>17.14.11</td>\n",
       "      <td>The Trump Presidency: Last Week Tonight with J...</td>\n",
       "      <td>LastWeekTonight</td>\n",
       "      <td>24.0</td>\n",
       "      <td>2017-11-13T07:30:00.000Z</td>\n",
       "      <td>last week tonight trump presidency|\"last week ...</td>\n",
       "      <td>2418783.0</td>\n",
       "      <td>97185.0</td>\n",
       "      <td>6146.0</td>\n",
       "      <td>...</td>\n",
       "      <td>https://i.ytimg.com/vi/1ZAPwfrtAFY/default.jpg</td>\n",
       "      <td>One year after the presidential election, John...</td>\n",
       "      <td>0.532161</td>\n",
       "      <td>0.007844</td>\n",
       "      <td>0.100130</td>\n",
       "      <td>0.083866</td>\n",
       "      <td>0.113709</td>\n",
       "      <td>0</td>\n",
       "      <td>0</td>\n",
       "      <td>0</td>\n",
       "    </tr>\n",
       "    <tr>\n",
       "      <th>2</th>\n",
       "      <td>5qpjK5DgCt4</td>\n",
       "      <td>17.14.11</td>\n",
       "      <td>Racist Superman | Rudy Mancuso, King Bach &amp; Le...</td>\n",
       "      <td>Rudy Mancuso</td>\n",
       "      <td>23.0</td>\n",
       "      <td>2017-11-12T19:05:24.000Z</td>\n",
       "      <td>racist superman|\"rudy\"|\"mancuso\"|\"king\"|\"bach\"...</td>\n",
       "      <td>3191434.0</td>\n",
       "      <td>146033.0</td>\n",
       "      <td>5339.0</td>\n",
       "      <td>...</td>\n",
       "      <td>https://i.ytimg.com/vi/5qpjK5DgCt4/default.jpg</td>\n",
       "      <td>WATCH MY PREVIOUS VIDEO ▶ \\n\\nSUBSCRIBE ► http...</td>\n",
       "      <td>0.400032</td>\n",
       "      <td>0.112339</td>\n",
       "      <td>0.313547</td>\n",
       "      <td>0.056067</td>\n",
       "      <td>-0.007101</td>\n",
       "      <td>0</td>\n",
       "      <td>0</td>\n",
       "      <td>0</td>\n",
       "    </tr>\n",
       "    <tr>\n",
       "      <th>3</th>\n",
       "      <td>puqaWrEC7tY</td>\n",
       "      <td>17.14.11</td>\n",
       "      <td>Nickelback Lyrics: Real or Fake?</td>\n",
       "      <td>Good Mythical Morning</td>\n",
       "      <td>24.0</td>\n",
       "      <td>2017-11-13T11:00:04.000Z</td>\n",
       "      <td>rhett and link|\"gmm\"|\"good mythical morning\"|\"...</td>\n",
       "      <td>343168.0</td>\n",
       "      <td>10172.0</td>\n",
       "      <td>666.0</td>\n",
       "      <td>...</td>\n",
       "      <td>https://i.ytimg.com/vi/puqaWrEC7tY/default.jpg</td>\n",
       "      <td>Today we find out if Link is a Nickelback amat...</td>\n",
       "      <td>0.532161</td>\n",
       "      <td>-0.272868</td>\n",
       "      <td>-0.280030</td>\n",
       "      <td>-0.104906</td>\n",
       "      <td>-0.168333</td>\n",
       "      <td>0</td>\n",
       "      <td>0</td>\n",
       "      <td>0</td>\n",
       "    </tr>\n",
       "    <tr>\n",
       "      <th>4</th>\n",
       "      <td>d380meD0W0M</td>\n",
       "      <td>17.14.11</td>\n",
       "      <td>I Dare You: GOING BALD!?</td>\n",
       "      <td>nigahiga</td>\n",
       "      <td>24.0</td>\n",
       "      <td>2017-11-12T18:01:41.000Z</td>\n",
       "      <td>ryan|\"higa\"|\"higatv\"|\"nigahiga\"|\"i dare you\"|\"...</td>\n",
       "      <td>2095731.0</td>\n",
       "      <td>132235.0</td>\n",
       "      <td>1989.0</td>\n",
       "      <td>...</td>\n",
       "      <td>https://i.ytimg.com/vi/d380meD0W0M/default.jpg</td>\n",
       "      <td>I know it's been a while since we did this sho...</td>\n",
       "      <td>0.532161</td>\n",
       "      <td>-0.035847</td>\n",
       "      <td>0.253263</td>\n",
       "      <td>-0.059332</td>\n",
       "      <td>0.242348</td>\n",
       "      <td>0</td>\n",
       "      <td>0</td>\n",
       "      <td>0</td>\n",
       "    </tr>\n",
       "    <tr>\n",
       "      <th>...</th>\n",
       "      <td>...</td>\n",
       "      <td>...</td>\n",
       "      <td>...</td>\n",
       "      <td>...</td>\n",
       "      <td>...</td>\n",
       "      <td>...</td>\n",
       "      <td>...</td>\n",
       "      <td>...</td>\n",
       "      <td>...</td>\n",
       "      <td>...</td>\n",
       "      <td>...</td>\n",
       "      <td>...</td>\n",
       "      <td>...</td>\n",
       "      <td>...</td>\n",
       "      <td>...</td>\n",
       "      <td>...</td>\n",
       "      <td>...</td>\n",
       "      <td>...</td>\n",
       "      <td>...</td>\n",
       "      <td>...</td>\n",
       "      <td>...</td>\n",
       "    </tr>\n",
       "    <tr>\n",
       "      <th>41410</th>\n",
       "      <td>BZt0qjTWNhw</td>\n",
       "      <td>18.14.06</td>\n",
       "      <td>The Cat Who Caught the Laser</td>\n",
       "      <td>AaronsAnimals</td>\n",
       "      <td>15.0</td>\n",
       "      <td>2018-05-18T13:00:04.000Z</td>\n",
       "      <td>aarons animals|\"aarons\"|\"animals\"|\"cat\"|\"cats\"...</td>\n",
       "      <td>1685609.0</td>\n",
       "      <td>38160.0</td>\n",
       "      <td>1385.0</td>\n",
       "      <td>...</td>\n",
       "      <td>https://i.ytimg.com/vi/BZt0qjTWNhw/default.jpg</td>\n",
       "      <td>The Cat Who Caught the Laser - Aaron's Animals</td>\n",
       "      <td>-0.657005</td>\n",
       "      <td>-0.091313</td>\n",
       "      <td>-0.157750</td>\n",
       "      <td>-0.080139</td>\n",
       "      <td>-0.154681</td>\n",
       "      <td>0</td>\n",
       "      <td>0</td>\n",
       "      <td>0</td>\n",
       "    </tr>\n",
       "    <tr>\n",
       "      <th>41411</th>\n",
       "      <td>1h7KV2sjUWY</td>\n",
       "      <td>18.14.06</td>\n",
       "      <td>True Facts : Ant Mutualism</td>\n",
       "      <td>zefrank1</td>\n",
       "      <td>22.0</td>\n",
       "      <td>2018-05-18T01:00:06.000Z</td>\n",
       "      <td>[none]</td>\n",
       "      <td>1064798.0</td>\n",
       "      <td>60008.0</td>\n",
       "      <td>382.0</td>\n",
       "      <td>...</td>\n",
       "      <td>https://i.ytimg.com/vi/1h7KV2sjUWY/default.jpg</td>\n",
       "      <td>NaN</td>\n",
       "      <td>0.267902</td>\n",
       "      <td>-0.175273</td>\n",
       "      <td>-0.062296</td>\n",
       "      <td>-0.114689</td>\n",
       "      <td>-0.120511</td>\n",
       "      <td>0</td>\n",
       "      <td>0</td>\n",
       "      <td>0</td>\n",
       "    </tr>\n",
       "    <tr>\n",
       "      <th>41412</th>\n",
       "      <td>D6Oy4LfoqsU</td>\n",
       "      <td>18.14.06</td>\n",
       "      <td>I GAVE SAFIYA NYGAARD A PERFECT HAIR MAKEOVER ...</td>\n",
       "      <td>Brad Mondo</td>\n",
       "      <td>24.0</td>\n",
       "      <td>2018-05-18T17:34:22.000Z</td>\n",
       "      <td>I gave safiya nygaard a perfect hair makeover ...</td>\n",
       "      <td>1066451.0</td>\n",
       "      <td>48068.0</td>\n",
       "      <td>1032.0</td>\n",
       "      <td>...</td>\n",
       "      <td>https://i.ytimg.com/vi/D6Oy4LfoqsU/default.jpg</td>\n",
       "      <td>I had so much fun transforming Safiyas hair in...</td>\n",
       "      <td>0.532161</td>\n",
       "      <td>-0.175049</td>\n",
       "      <td>-0.114462</td>\n",
       "      <td>-0.092299</td>\n",
       "      <td>-0.119015</td>\n",
       "      <td>0</td>\n",
       "      <td>0</td>\n",
       "      <td>0</td>\n",
       "    </tr>\n",
       "    <tr>\n",
       "      <th>41413</th>\n",
       "      <td>oV0zkMe1K8s</td>\n",
       "      <td>18.14.06</td>\n",
       "      <td>How Black Panther Should Have Ended</td>\n",
       "      <td>How It Should Have Ended</td>\n",
       "      <td>1.0</td>\n",
       "      <td>2018-05-17T17:00:04.000Z</td>\n",
       "      <td>Black Panther|\"HISHE\"|\"Marvel\"|\"Infinity War\"|...</td>\n",
       "      <td>5660813.0</td>\n",
       "      <td>192957.0</td>\n",
       "      <td>2846.0</td>\n",
       "      <td>...</td>\n",
       "      <td>https://i.ytimg.com/vi/oV0zkMe1K8s/default.jpg</td>\n",
       "      <td>How Black Panther Should Have EndedWatch More ...</td>\n",
       "      <td>-2.506819</td>\n",
       "      <td>0.446305</td>\n",
       "      <td>0.518558</td>\n",
       "      <td>-0.029811</td>\n",
       "      <td>0.123995</td>\n",
       "      <td>0</td>\n",
       "      <td>0</td>\n",
       "      <td>0</td>\n",
       "    </tr>\n",
       "    <tr>\n",
       "      <th>41414</th>\n",
       "      <td>ooyjaVdt-jA</td>\n",
       "      <td>18.14.06</td>\n",
       "      <td>Official Call of Duty®: Black Ops 4 — Multipla...</td>\n",
       "      <td>Call of Duty</td>\n",
       "      <td>20.0</td>\n",
       "      <td>2018-05-17T17:09:38.000Z</td>\n",
       "      <td>call of duty|\"cod\"|\"activision\"|\"Black Ops 4\"</td>\n",
       "      <td>10306119.0</td>\n",
       "      <td>357079.0</td>\n",
       "      <td>212976.0</td>\n",
       "      <td>...</td>\n",
       "      <td>https://i.ytimg.com/vi/ooyjaVdt-jA/default.jpg</td>\n",
       "      <td>Call of Duty: Black Ops 4 Multiplayer raises t...</td>\n",
       "      <td>0.003643</td>\n",
       "      <td>1.074549</td>\n",
       "      <td>1.235607</td>\n",
       "      <td>7.208637</td>\n",
       "      <td>3.642704</td>\n",
       "      <td>0</td>\n",
       "      <td>0</td>\n",
       "      <td>0</td>\n",
       "    </tr>\n",
       "  </tbody>\n",
       "</table>\n",
       "<p>41415 rows × 21 columns</p>\n",
       "</div>"
      ],
      "text/plain": [
       "          video_id trending_date  \\\n",
       "0      2kyS6SvSYSE      17.14.11   \n",
       "1      1ZAPwfrtAFY      17.14.11   \n",
       "2      5qpjK5DgCt4      17.14.11   \n",
       "3      puqaWrEC7tY      17.14.11   \n",
       "4      d380meD0W0M      17.14.11   \n",
       "...            ...           ...   \n",
       "41410  BZt0qjTWNhw      18.14.06   \n",
       "41411  1h7KV2sjUWY      18.14.06   \n",
       "41412  D6Oy4LfoqsU      18.14.06   \n",
       "41413  oV0zkMe1K8s      18.14.06   \n",
       "41414  ooyjaVdt-jA      18.14.06   \n",
       "\n",
       "                                                   title  \\\n",
       "0                     WE WANT TO TALK ABOUT OUR MARRIAGE   \n",
       "1      The Trump Presidency: Last Week Tonight with J...   \n",
       "2      Racist Superman | Rudy Mancuso, King Bach & Le...   \n",
       "3                       Nickelback Lyrics: Real or Fake?   \n",
       "4                               I Dare You: GOING BALD!?   \n",
       "...                                                  ...   \n",
       "41410                       The Cat Who Caught the Laser   \n",
       "41411                         True Facts : Ant Mutualism   \n",
       "41412  I GAVE SAFIYA NYGAARD A PERFECT HAIR MAKEOVER ...   \n",
       "41413                How Black Panther Should Have Ended   \n",
       "41414  Official Call of Duty®: Black Ops 4 — Multipla...   \n",
       "\n",
       "                  channel_title  category_id              publish_time  \\\n",
       "0                  CaseyNeistat         22.0  2017-11-13T17:13:01.000Z   \n",
       "1               LastWeekTonight         24.0  2017-11-13T07:30:00.000Z   \n",
       "2                  Rudy Mancuso         23.0  2017-11-12T19:05:24.000Z   \n",
       "3         Good Mythical Morning         24.0  2017-11-13T11:00:04.000Z   \n",
       "4                      nigahiga         24.0  2017-11-12T18:01:41.000Z   \n",
       "...                         ...          ...                       ...   \n",
       "41410             AaronsAnimals         15.0  2018-05-18T13:00:04.000Z   \n",
       "41411                  zefrank1         22.0  2018-05-18T01:00:06.000Z   \n",
       "41412                Brad Mondo         24.0  2018-05-18T17:34:22.000Z   \n",
       "41413  How It Should Have Ended          1.0  2018-05-17T17:00:04.000Z   \n",
       "41414              Call of Duty         20.0  2018-05-17T17:09:38.000Z   \n",
       "\n",
       "                                                    tags       views  \\\n",
       "0                                        SHANtell martin    748374.0   \n",
       "1      last week tonight trump presidency|\"last week ...   2418783.0   \n",
       "2      racist superman|\"rudy\"|\"mancuso\"|\"king\"|\"bach\"...   3191434.0   \n",
       "3      rhett and link|\"gmm\"|\"good mythical morning\"|\"...    343168.0   \n",
       "4      ryan|\"higa\"|\"higatv\"|\"nigahiga\"|\"i dare you\"|\"...   2095731.0   \n",
       "...                                                  ...         ...   \n",
       "41410  aarons animals|\"aarons\"|\"animals\"|\"cat\"|\"cats\"...   1685609.0   \n",
       "41411                                             [none]   1064798.0   \n",
       "41412  I gave safiya nygaard a perfect hair makeover ...   1066451.0   \n",
       "41413  Black Panther|\"HISHE\"|\"Marvel\"|\"Infinity War\"|...   5660813.0   \n",
       "41414      call of duty|\"cod\"|\"activision\"|\"Black Ops 4\"  10306119.0   \n",
       "\n",
       "          likes  dislikes  ...  \\\n",
       "0       57527.0    2966.0  ...   \n",
       "1       97185.0    6146.0  ...   \n",
       "2      146033.0    5339.0  ...   \n",
       "3       10172.0     666.0  ...   \n",
       "4      132235.0    1989.0  ...   \n",
       "...         ...       ...  ...   \n",
       "41410   38160.0    1385.0  ...   \n",
       "41411   60008.0     382.0  ...   \n",
       "41412   48068.0    1032.0  ...   \n",
       "41413  192957.0    2846.0  ...   \n",
       "41414  357079.0  212976.0  ...   \n",
       "\n",
       "                                       thumbnail_link  \\\n",
       "0      https://i.ytimg.com/vi/2kyS6SvSYSE/default.jpg   \n",
       "1      https://i.ytimg.com/vi/1ZAPwfrtAFY/default.jpg   \n",
       "2      https://i.ytimg.com/vi/5qpjK5DgCt4/default.jpg   \n",
       "3      https://i.ytimg.com/vi/puqaWrEC7tY/default.jpg   \n",
       "4      https://i.ytimg.com/vi/d380meD0W0M/default.jpg   \n",
       "...                                               ...   \n",
       "41410  https://i.ytimg.com/vi/BZt0qjTWNhw/default.jpg   \n",
       "41411  https://i.ytimg.com/vi/1h7KV2sjUWY/default.jpg   \n",
       "41412  https://i.ytimg.com/vi/D6Oy4LfoqsU/default.jpg   \n",
       "41413  https://i.ytimg.com/vi/oV0zkMe1K8s/default.jpg   \n",
       "41414  https://i.ytimg.com/vi/ooyjaVdt-jA/default.jpg   \n",
       "\n",
       "                                             description category_id_zscore  \\\n",
       "0      SHANTELL'S CHANNEL - https://www.youtube.com/s...           0.267902   \n",
       "1      One year after the presidential election, John...           0.532161   \n",
       "2      WATCH MY PREVIOUS VIDEO ▶ \\n\\nSUBSCRIBE ► http...           0.400032   \n",
       "3      Today we find out if Link is a Nickelback amat...           0.532161   \n",
       "4      I know it's been a while since we did this sho...           0.532161   \n",
       "...                                                  ...                ...   \n",
       "41410     The Cat Who Caught the Laser - Aaron's Animals          -0.657005   \n",
       "41411                                                NaN           0.267902   \n",
       "41412  I had so much fun transforming Safiyas hair in...           0.532161   \n",
       "41413  How Black Panther Should Have EndedWatch More ...          -2.506819   \n",
       "41414  Call of Duty: Black Ops 4 Multiplayer raises t...           0.003643   \n",
       "\n",
       "       views_zscore  likes_zscore  dislikes_zscore  comment_count_zscore  \\\n",
       "0         -0.218067     -0.073136        -0.025677              0.200564   \n",
       "1          0.007844      0.100130         0.083866              0.113709   \n",
       "2          0.112339      0.313547         0.056067             -0.007101   \n",
       "3         -0.272868     -0.280030        -0.104906             -0.168333   \n",
       "4         -0.035847      0.253263        -0.059332              0.242348   \n",
       "...             ...           ...              ...                   ...   \n",
       "41410     -0.091313     -0.157750        -0.080139             -0.154681   \n",
       "41411     -0.175273     -0.062296        -0.114689             -0.120511   \n",
       "41412     -0.175049     -0.114462        -0.092299             -0.119015   \n",
       "41413      0.446305      0.518558        -0.029811              0.123995   \n",
       "41414      1.074549      1.235607         7.208637              3.642704   \n",
       "\n",
       "       comments_disabled_True  ratings_disabled_True  \\\n",
       "0                           0                      0   \n",
       "1                           0                      0   \n",
       "2                           0                      0   \n",
       "3                           0                      0   \n",
       "4                           0                      0   \n",
       "...                       ...                    ...   \n",
       "41410                       0                      0   \n",
       "41411                       0                      0   \n",
       "41412                       0                      0   \n",
       "41413                       0                      0   \n",
       "41414                       0                      0   \n",
       "\n",
       "       video_error_or_removed_True  \n",
       "0                                0  \n",
       "1                                0  \n",
       "2                                0  \n",
       "3                                0  \n",
       "4                                0  \n",
       "...                            ...  \n",
       "41410                            0  \n",
       "41411                            0  \n",
       "41412                            0  \n",
       "41413                            0  \n",
       "41414                            0  \n",
       "\n",
       "[41415 rows x 21 columns]"
      ]
     },
     "execution_count": 42,
     "metadata": {},
     "output_type": "execute_result"
    }
   ],
   "source": [
    "df2=pd.get_dummies(df,columns=[\"comments_disabled\",\"ratings_disabled\",\"video_error_or_removed\"],dtype=int)\n",
    "#this will create 2 columns for each but we only need one so we drop the other\n",
    "df2.drop([\"comments_disabled_False\",\"ratings_disabled_False\",\"video_error_or_removed_False\"],axis='columns')"
   ]
  },
  {
   "cell_type": "markdown",
   "metadata": {},
   "source": [
    "6) Tags:"
   ]
  },
  {
   "cell_type": "code",
   "execution_count": 46,
   "metadata": {},
   "outputs": [
    {
     "data": {
      "text/plain": [
       "6055"
      ]
     },
     "execution_count": 46,
     "metadata": {},
     "output_type": "execute_result"
    }
   ],
   "source": [
    "df.nunique()[\"tags\"] #number of unique tags"
   ]
  },
  {
   "cell_type": "code",
   "execution_count": 59,
   "metadata": {},
   "outputs": [
    {
     "data": {
      "text/plain": [
       "[none]                                                                                                                                                                                                                                                                                                                                                                                                                                                       1535\n",
       "ABC|\"americanidol\"|\"idol\"|\"american idol\"|\"ryan\"|\"seacrest\"|\"ryan seacrest\"|\"katy\"|\"perry\"|\"katy perry\"|\"luke\"|\"bryan\"|\"luke bryan\"|\"lionel\"|\"richie\"|\"lionel richie\"|\"season 16\"|\"american idol XVI\"|\"television\"|\"ad\"|\"spring\"|\"2018\"|\"music\"|\"reality\"|\"competition\"|\"song\"|\"sing\"|\"audition\"|\"auditions\"|\"performance\"|\"live\"|\"fox\"|\"AI\"|\"hollywood\"|\"contestant\"|\"official\"|\"american\"|\"official american idol\"|\"hollywood week\"|\"hometown audition\"      87\n",
       "Jacksfilms|\"Jack Douglass\"|\"YGS\"|\"YGS 100\"|\"YGS 50\"|\"The Best of Your Grammar Sucks\"|\"Your Grammar Sucks\"|\"YIAY\"|\"Yesterday I Asked You\"|\"Fidget Spinners\"|\"Emoji Movie\"|\"Kermit Sings\"|\"JackAsk\"|\"Jack Ask\"|\"Dubstep Solves Everything\"|\"Frozen 2\"|\"iPhone Parody\"|\"Apple Parody\"                                                                                                                                                                             80\n",
       "James Corden|\"The Late Late Show\"|\"Colbert\"|\"late night\"|\"late night show\"|\"Stephen Colbert\"|\"Comedy\"|\"monologue\"|\"comedian\"|\"impressions\"|\"celebrities\"|\"carpool\"|\"karaoke\"|\"CBS\"|\"Late Late Show\"|\"Corden\"|\"joke\"|\"jokes\"|\"funny\"|\"funny video\"|\"funny videos\"|\"humor\"|\"celebrity\"|\"celeb\"|\"hollywood\"|\"famous\"                                                                                                                                              71\n",
       "The Late Show|\"Stephen Colbert\"|\"Colbert\"|\"Late Show\"|\"celebrities\"|\"late night\"|\"talk show\"|\"skits\"|\"bit\"|\"monologue\"|\"The Late Late Show\"|\"Late Late Show\"|\"letterman\"|\"david letterman\"|\"comedian\"|\"impressions\"|\"CBS\"|\"joke\"|\"jokes\"|\"funny\"|\"funny video\"|\"funny videos\"|\"humor\"|\"celebrity\"|\"celeb\"|\"hollywood\"|\"famous\"|\"James Corden\"|\"Corden\"|\"Comedy\"                                                                                                66\n",
       "Name: tags, dtype: int64"
      ]
     },
     "execution_count": 59,
     "metadata": {},
     "output_type": "execute_result"
    }
   ],
   "source": [
    "df[\"tags\"].value_counts()[:5] #we took the 5 most frquent ones"
   ]
  }
 ],
 "metadata": {
  "interpreter": {
   "hash": "3335b1a3bbe6bdad2542a132674b7ecd024a3af5fe551aad4da004090d85570e"
  },
  "kernelspec": {
   "display_name": "Python 3.9.0 64-bit",
   "language": "python",
   "name": "python3"
  },
  "language_info": {
   "codemirror_mode": {
    "name": "ipython",
    "version": 3
   },
   "file_extension": ".py",
   "mimetype": "text/x-python",
   "name": "python",
   "nbconvert_exporter": "python",
   "pygments_lexer": "ipython3",
   "version": "3.9.0"
  },
  "orig_nbformat": 4
 },
 "nbformat": 4,
 "nbformat_minor": 2
}
