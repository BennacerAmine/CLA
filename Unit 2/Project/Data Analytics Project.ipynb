{
 "cells": [
  {
   "cell_type": "markdown",
   "metadata": {},
   "source": [
    "<img src=\"Logo.png\" width=\"100\" align=\"left\"/> \n",
    "\n",
    "# <center>Data Analytics project:</center>\n",
    "\n",
    "\n",
    "\n",
    "Congratulations on finishing the lessons content for this second unit !\n",
    "\n",
    "We have seen a lot of concepts in the second unit and we had the chance to test some of them. Now, we get to see how these different concepts are used to better understand our data."
   ]
  },
  {
   "cell_type": "markdown",
   "metadata": {},
   "source": [
    "## Some guidelines: \n",
    "1. To run a cell you can use the shortcut use : Shift + Enter\n",
    "\n",
    "2. Only sections mentioned as To-Do are the places where you should put in your own code other than that we do not recommend that you change the provided code.\n",
    "\n",
    "3. You will be graded for the visibility of your code so make sure you respect the correct indentation and that your code contains suitable variables names.\n",
    "\n",
    "4. This notebook is designed in a sequential way so if you solve your project on different days make sure to run the previous cells before you can run the one you want.\n",
    "\n",
    "5. Teacher assistants in the slack space remain available to answer any questions you might have.\n",
    "\n",
    ">Best of luck ! "
   ]
  },
  {
   "cell_type": "markdown",
   "metadata": {},
   "source": [
    "## Project Sections:\n",
    "In this project you will practice some of the concepts seen in the data analytics unit, you will deal with a real dataset. This dataset contains house sale prices for King County. It includes homes sold between May 2014 and May 2015.\n",
    "\n",
    "Our goal is to analyze this dataset, clean it then create a simple linear regression model using it.\n",
    "\n",
    "This project is devided into n sections : \n",
    "1. [Setting the environement](#set_env)\n",
    "\n",
    "2. [Importing necessary tools](#importing)\n",
    "\n",
    "3. [Dataset discovery](#dataset_discovery)\n",
    "\n",
    "4. [NA handling](#na_handling)\n",
    "\n",
    "5. [Useless variables deletion](#useless_var)\n",
    "\n",
    "6. [Outliers detection](#outliers)\n",
    "\n",
    "7. [Feature selection](#feature_selection)\n",
    "\n",
    "8. [Linear regression](#linear_reg)"
   ]
  },
  {
   "cell_type": "markdown",
   "metadata": {},
   "source": [
    "### 1. Setting the environement:  <a id='set_env'></a>"
   ]
  },
  {
   "cell_type": "code",
   "execution_count": 1,
   "metadata": {},
   "outputs": [
    {
     "name": "stdout",
     "output_type": "stream",
     "text": [
      "Requirement already satisfied: virtualenv in c:\\users\\crash\\appdata\\roaming\\python\\python39\\site-packages (20.13.0)"
     ]
    },
    {
     "name": "stderr",
     "output_type": "stream",
     "text": [
      "WARNING: You are using pip version 20.2.3; however, version 22.0.4 is available.\n",
      "You should consider upgrading via the 'c:\\users\\crash\\appdata\\local\\programs\\python\\python39\\python.exe -m pip install --upgrade pip' command.\n"
     ]
    },
    {
     "name": "stdout",
     "output_type": "stream",
     "text": [
      "\n",
      "Requirement already satisfied: six<2,>=1.9.0 in c:\\users\\crash\\appdata\\local\\programs\\python\\python39\\lib\\site-packages (from virtualenv) (1.16.0)\n",
      "Requirement already satisfied: distlib<1,>=0.3.1 in c:\\users\\crash\\appdata\\roaming\\python\\python39\\site-packages (from virtualenv) (0.3.4)\n",
      "Requirement already satisfied: filelock<4,>=3.2 in c:\\users\\crash\\appdata\\roaming\\python\\python39\\site-packages (from virtualenv) (3.6.0)\n",
      "Requirement already satisfied: platformdirs<3,>=2 in c:\\users\\crash\\appdata\\roaming\\python\\python39\\site-packages (from virtualenv) (2.4.1)\n"
     ]
    }
   ],
   "source": [
    "# Make sure you have virtualenv installed \n",
    "!pip install --user virtualenv"
   ]
  },
  {
   "cell_type": "code",
   "execution_count": 2,
   "metadata": {},
   "outputs": [],
   "source": [
    "# To-Do: create a virtual environement called data_analytics\n",
    "!python -m venv data_analytics"
   ]
  },
  {
   "cell_type": "code",
   "execution_count": 3,
   "metadata": {},
   "outputs": [
    {
     "name": "stderr",
     "output_type": "stream",
     "text": [
      "'source' n?est pas reconnu en tant que commande interne\n",
      "ou externe, un programme ex�cutable ou un fichier de commandes.\n"
     ]
    }
   ],
   "source": [
    "# Activate the environement for windows\n",
    "!source data_analytics/bin/activate"
   ]
  },
  {
   "cell_type": "code",
   "execution_count": 4,
   "metadata": {},
   "outputs": [
    {
     "name": "stderr",
     "output_type": "stream",
     "text": [
      "'.' n?est pas reconnu en tant que commande interne\n",
      "ou externe, un programme ex�cutable ou un fichier de commandes.\n"
     ]
    }
   ],
   "source": [
    "# Activate the environement for linux (debian based)\n",
    "!. data_analytics/bin/activate"
   ]
  },
  {
   "cell_type": "markdown",
   "metadata": {},
   "source": [
    "### 2. Importing necessary tools:<a id='importing'></a>"
   ]
  },
  {
   "cell_type": "code",
   "execution_count": 1,
   "metadata": {},
   "outputs": [],
   "source": [
    "import pandas as pd\n",
    "import matplotlib.pyplot as plt\n",
    "import seaborn as sns\n",
    "import numpy as np"
   ]
  },
  {
   "cell_type": "markdown",
   "metadata": {},
   "source": [
    "### 3. Dataset discovery:<a id='dataset_discovery'></a>"
   ]
  },
  {
   "cell_type": "code",
   "execution_count": 157,
   "metadata": {},
   "outputs": [
    {
     "data": {
      "text/plain": [
       "(21613, 21)"
      ]
     },
     "execution_count": 157,
     "metadata": {},
     "output_type": "execute_result"
    }
   ],
   "source": [
    "# To-Do: Read the file (\"kc_house_data.csv\") using pandas and store in a dataframe called df\n",
    "df=pd.read_csv(\"kc_house_data.csv\")\n",
    "# To-Do: Print the dataframe's shape\n",
    "df.shape"
   ]
  },
  {
   "cell_type": "code",
   "execution_count": 158,
   "metadata": {},
   "outputs": [
    {
     "name": "stdout",
     "output_type": "stream",
     "text": [
      "<class 'pandas.core.frame.DataFrame'>\n",
      "RangeIndex: 21613 entries, 0 to 21612\n",
      "Data columns (total 21 columns):\n",
      " #   Column         Non-Null Count  Dtype  \n",
      "---  ------         --------------  -----  \n",
      " 0   id             21613 non-null  int64  \n",
      " 1   date           21606 non-null  object \n",
      " 2   price          21608 non-null  float64\n",
      " 3   bedrooms       21613 non-null  int64  \n",
      " 4   bathrooms      21613 non-null  float64\n",
      " 5   sqft_living    21612 non-null  float64\n",
      " 6   sqft_lot       21612 non-null  float64\n",
      " 7   floors         21613 non-null  float64\n",
      " 8   waterfront     21613 non-null  int64  \n",
      " 9   view           21613 non-null  int64  \n",
      " 10  condition      21613 non-null  int64  \n",
      " 11  grade          21613 non-null  int64  \n",
      " 12  sqft_above     21609 non-null  float64\n",
      " 13  sqft_basement  21613 non-null  int64  \n",
      " 14  yr_built       21611 non-null  float64\n",
      " 15  yr_renovated   21612 non-null  float64\n",
      " 16  zipcode        21611 non-null  float64\n",
      " 17  lat            21612 non-null  float64\n",
      " 18  long           21613 non-null  float64\n",
      " 19  sqft_living15  21612 non-null  float64\n",
      " 20  sqft_lot15     21613 non-null  int64  \n",
      "dtypes: float64(12), int64(8), object(1)\n",
      "memory usage: 3.5+ MB\n"
     ]
    }
   ],
   "source": [
    "# To-Do: Print the dataframe's info\n",
    "df.info()"
   ]
  },
  {
   "cell_type": "markdown",
   "metadata": {},
   "source": [
    "### 4. NA handling:<a id='na_handling'></a>\n",
    "It is clear after printing the dataset info that there are some variables that have less entries than the number of rows which means that some of them don't have values in certain rows.\n",
    "\n",
    "Given the number of the na values, what do you think is the best method to deal with them?"
   ]
  },
  {
   "cell_type": "code",
   "execution_count": 159,
   "metadata": {},
   "outputs": [
    {
     "name": "stdout",
     "output_type": "stream",
     "text": [
      "<class 'pandas.core.frame.DataFrame'>\n",
      "Int64Index: 21588 entries, 0 to 21612\n",
      "Data columns (total 21 columns):\n",
      " #   Column         Non-Null Count  Dtype  \n",
      "---  ------         --------------  -----  \n",
      " 0   id             21588 non-null  int64  \n",
      " 1   date           21588 non-null  object \n",
      " 2   price          21588 non-null  float64\n",
      " 3   bedrooms       21588 non-null  int64  \n",
      " 4   bathrooms      21588 non-null  float64\n",
      " 5   sqft_living    21588 non-null  float64\n",
      " 6   sqft_lot       21588 non-null  float64\n",
      " 7   floors         21588 non-null  float64\n",
      " 8   waterfront     21588 non-null  int64  \n",
      " 9   view           21588 non-null  int64  \n",
      " 10  condition      21588 non-null  int64  \n",
      " 11  grade          21588 non-null  int64  \n",
      " 12  sqft_above     21588 non-null  float64\n",
      " 13  sqft_basement  21588 non-null  int64  \n",
      " 14  yr_built       21588 non-null  float64\n",
      " 15  yr_renovated   21588 non-null  float64\n",
      " 16  zipcode        21588 non-null  float64\n",
      " 17  lat            21588 non-null  float64\n",
      " 18  long           21588 non-null  float64\n",
      " 19  sqft_living15  21588 non-null  float64\n",
      " 20  sqft_lot15     21588 non-null  int64  \n",
      "dtypes: float64(12), int64(8), object(1)\n",
      "memory usage: 3.6+ MB\n"
     ]
    }
   ],
   "source": [
    "# To-Do: deal with the NAs in your dataset in one line\n",
    "#Since the number of NA values is very insignificant we can just delete the rows without having to worry about losing data\n",
    "df.dropna(inplace=True)\n",
    "df.info()"
   ]
  },
  {
   "cell_type": "markdown",
   "metadata": {},
   "source": [
    "As we can see we lost about 25 rows which isn't much"
   ]
  },
  {
   "cell_type": "markdown",
   "metadata": {},
   "source": [
    "### 5. Useless variables deletion:<a id='useless_var'></a>\n",
    "We want to eventually do a regression on it so naturally some variables bring no added value and can be delted without impacting the results.\n",
    "\n",
    "Delete the column that correspond to variables that aren't needed."
   ]
  },
  {
   "cell_type": "code",
   "execution_count": 160,
   "metadata": {
    "scrolled": true
   },
   "outputs": [],
   "source": [
    "# To-Do: delete the values of the variables that are useless\n",
    "#These variables have been deemed unimportant and bring no information to the data so they will be deleted\n",
    "df.drop([\"id\",\"date\"], axis=1, inplace=True)"
   ]
  },
  {
   "cell_type": "code",
   "execution_count": 161,
   "metadata": {},
   "outputs": [
    {
     "name": "stdout",
     "output_type": "stream",
     "text": [
      "<class 'pandas.core.frame.DataFrame'>\n",
      "Int64Index: 21588 entries, 0 to 21612\n",
      "Data columns (total 19 columns):\n",
      " #   Column         Non-Null Count  Dtype  \n",
      "---  ------         --------------  -----  \n",
      " 0   price          21588 non-null  float64\n",
      " 1   bedrooms       21588 non-null  int64  \n",
      " 2   bathrooms      21588 non-null  float64\n",
      " 3   sqft_living    21588 non-null  float64\n",
      " 4   sqft_lot       21588 non-null  float64\n",
      " 5   floors         21588 non-null  float64\n",
      " 6   waterfront     21588 non-null  int64  \n",
      " 7   view           21588 non-null  int64  \n",
      " 8   condition      21588 non-null  int64  \n",
      " 9   grade          21588 non-null  int64  \n",
      " 10  sqft_above     21588 non-null  float64\n",
      " 11  sqft_basement  21588 non-null  int64  \n",
      " 12  yr_built       21588 non-null  float64\n",
      " 13  yr_renovated   21588 non-null  float64\n",
      " 14  zipcode        21588 non-null  float64\n",
      " 15  lat            21588 non-null  float64\n",
      " 16  long           21588 non-null  float64\n",
      " 17  sqft_living15  21588 non-null  float64\n",
      " 18  sqft_lot15     21588 non-null  int64  \n",
      "dtypes: float64(12), int64(7)\n",
      "memory usage: 3.3 MB\n"
     ]
    }
   ],
   "source": [
    "df.info()"
   ]
  },
  {
   "cell_type": "markdown",
   "metadata": {},
   "source": [
    "### A wild playground appears !!\n",
    "In the next cell, go wild with the dataset discovery.\n",
    "You can calculate the mean, the median or do anything you want to learn more the data.\n",
    "\n",
    "<b>Pro tip :</b> \n",
    "Sometimes you might want to know how many unique variables a column has, to do so you can use the padas function :\n",
    "\n",
    "<center>pd.unique(df['column_name'])</center>"
   ]
  },
  {
   "cell_type": "code",
   "execution_count": 162,
   "metadata": {},
   "outputs": [
    {
     "data": {
      "text/plain": [
       "array([ 7,  6,  8, 11,  9,  5, 10, 12,  4,  3, 13,  1], dtype=int64)"
      ]
     },
     "execution_count": 162,
     "metadata": {},
     "output_type": "execute_result"
    }
   ],
   "source": [
    "# To-Do : get to know more your data WITHOUT modifying it !!\n",
    "pd.unique(df[\"grade\"]) "
   ]
  },
  {
   "cell_type": "markdown",
   "metadata": {},
   "source": [
    "The grading metric as seen goes from 1 to at least 13"
   ]
  },
  {
   "cell_type": "code",
   "execution_count": 163,
   "metadata": {},
   "outputs": [
    {
     "data": {
      "text/plain": [
       "array([ 3,  2,  4,  5,  1,  6,  7,  0,  8,  9, 11, 10, 33], dtype=int64)"
      ]
     },
     "execution_count": 163,
     "metadata": {},
     "output_type": "execute_result"
    }
   ],
   "source": [
    "pd.unique(df[\"bedrooms\"])"
   ]
  },
  {
   "cell_type": "markdown",
   "metadata": {},
   "source": [
    "33 seems like an outlier , but is probably the number of rooms of a very expensive house"
   ]
  },
  {
   "cell_type": "code",
   "execution_count": 164,
   "metadata": {},
   "outputs": [
    {
     "data": {
      "text/plain": [
       "array([1955., 1951., 1933., 1965., 1987., 2001., 1995., 1963., 1960.,\n",
       "       2003., 1942., 1927., 1977., 1900., 1979., 1994., 1916., 1921.,\n",
       "       1969., 1947., 1968., 1985., 1941., 1915., 1909., 1948., 2005.,\n",
       "       1929., 1981., 1930., 1904., 1996., 2000., 1984., 1922., 1959.,\n",
       "       1966., 1953., 1950., 2008., 1991., 1954., 1973., 2014., 1925.,\n",
       "       1989., 1972., 1986., 1956., 2002., 1992., 1964., 1952., 1961.,\n",
       "       2006., 1988., 1962., 1939., 1946., 1967., 1975., 1980., 1910.,\n",
       "       1983., 1978., 1905., 1971., 2010., 1945., 1924., 1990., 1914.,\n",
       "       1926., 2004., 1923., 2007., 1976., 1949., 1999., 1901., 1993.,\n",
       "       1920., 1997., 1943., 1957., 1940., 1918., 1928., 1974., 1911.,\n",
       "       1936., 1937., 1982., 1908., 1931., 1998., 1913., 2013., 1907.,\n",
       "       1958., 2012., 1912., 2011., 1917., 1932., 1944., 1902., 2009.,\n",
       "       1903., 1970., 2015., 1934., 1938., 1919., 1906., 1935.])"
      ]
     },
     "execution_count": 164,
     "metadata": {},
     "output_type": "execute_result"
    }
   ],
   "source": [
    "pd.unique(df['yr_built'])"
   ]
  },
  {
   "cell_type": "markdown",
   "metadata": {},
   "source": [
    "This dataset contains recent built houses as well as houses that are more than a century old (probably have been renovated)"
   ]
  },
  {
   "cell_type": "code",
   "execution_count": 165,
   "metadata": {},
   "outputs": [
    {
     "data": {
      "text/plain": [
       "array([0, 1], dtype=int64)"
      ]
     },
     "execution_count": 165,
     "metadata": {},
     "output_type": "execute_result"
    }
   ],
   "source": [
    "pd.unique(df[\"waterfront\"])"
   ]
  },
  {
   "cell_type": "code",
   "execution_count": 167,
   "metadata": {},
   "outputs": [
    {
     "data": {
      "text/plain": [
       "array([3, 5, 4, 1, 2], dtype=int64)"
      ]
     },
     "execution_count": 167,
     "metadata": {},
     "output_type": "execute_result"
    }
   ],
   "source": [
    "pd.unique(df[\"condition\"])"
   ]
  },
  {
   "cell_type": "markdown",
   "metadata": {},
   "source": [
    "The condition metric goes from 1 to 5"
   ]
  },
  {
   "cell_type": "code",
   "execution_count": null,
   "metadata": {},
   "outputs": [
    {
     "data": {
      "text/plain": [
       "array([1. , 2. , 1.5, 3. , 2.5, 3.5])"
      ]
     },
     "execution_count": 154,
     "metadata": {},
     "output_type": "execute_result"
    }
   ],
   "source": [
    "pd.unique(df[\"floors\"])"
   ]
  },
  {
   "cell_type": "markdown",
   "metadata": {},
   "source": [
    "floats for the number of floors is odd"
   ]
  },
  {
   "cell_type": "code",
   "execution_count": null,
   "metadata": {},
   "outputs": [
    {
     "data": {
      "text/plain": [
       "540154.4824902724"
      ]
     },
     "execution_count": 138,
     "metadata": {},
     "output_type": "execute_result"
    }
   ],
   "source": [
    "df[\"price\"].mean()"
   ]
  },
  {
   "cell_type": "markdown",
   "metadata": {},
   "source": [
    "### 6.Outliers detection:<a id='outliers'></a>\n",
    "Having outliers is a common problem that might affect the quality of the model that we're building.\n",
    "\n",
    "Let's assume that we're not interested in very expensive or very cheap houses, we want a model that best fits the average priced houses.\n",
    "\n",
    "To create such a model, we detect outliers and delete them using the Z-score method seen in the lessons."
   ]
  },
  {
   "cell_type": "code",
   "execution_count": null,
   "metadata": {},
   "outputs": [],
   "source": [
    "# To-Do : detect the outliers then delete them and delete the column created to calculate the Z-score\n",
    "len1=len(df)#the number of rows before deletion\n",
    "df[\"price_zscore\"]=(df.price-df.price.mean())/df.price.std()\n",
    "df=df[abs(df[\"price_zscore\"])<3.5] #this value was chosed by trial, and it gave us the best results\n",
    "df.drop([\"price_zscore\"],axis=1, inplace=True)"
   ]
  },
  {
   "cell_type": "code",
   "execution_count": null,
   "metadata": {},
   "outputs": [
    {
     "name": "stdout",
     "output_type": "stream",
     "text": [
      "<class 'pandas.core.frame.DataFrame'>\n",
      "Int64Index: 21308 entries, 0 to 21612\n",
      "Data columns (total 19 columns):\n",
      " #   Column         Non-Null Count  Dtype  \n",
      "---  ------         --------------  -----  \n",
      " 0   price          21308 non-null  float64\n",
      " 1   bedrooms       21308 non-null  int64  \n",
      " 2   bathrooms      21308 non-null  float64\n",
      " 3   sqft_living    21308 non-null  float64\n",
      " 4   sqft_lot       21308 non-null  float64\n",
      " 5   floors         21308 non-null  float64\n",
      " 6   waterfront     21308 non-null  int64  \n",
      " 7   view           21308 non-null  int64  \n",
      " 8   condition      21308 non-null  int64  \n",
      " 9   grade          21308 non-null  int64  \n",
      " 10  sqft_above     21308 non-null  float64\n",
      " 11  sqft_basement  21308 non-null  int64  \n",
      " 12  yr_built       21308 non-null  float64\n",
      " 13  yr_renovated   21308 non-null  float64\n",
      " 14  zipcode        21308 non-null  float64\n",
      " 15  lat            21308 non-null  float64\n",
      " 16  long           21308 non-null  float64\n",
      " 17  sqft_living15  21308 non-null  float64\n",
      " 18  sqft_lot15     21308 non-null  int64  \n",
      "dtypes: float64(12), int64(7)\n",
      "memory usage: 3.3 MB\n"
     ]
    }
   ],
   "source": [
    "df.info()"
   ]
  },
  {
   "cell_type": "code",
   "execution_count": null,
   "metadata": {},
   "outputs": [
    {
     "name": "stdout",
     "output_type": "stream",
     "text": [
      "the number of outliers deleted is \n"
     ]
    },
    {
     "data": {
      "text/plain": [
       "280"
      ]
     },
     "execution_count": 141,
     "metadata": {},
     "output_type": "execute_result"
    }
   ],
   "source": [
    "print(\"the number of outliers deleted is \")\n",
    "len1-len(df)"
   ]
  },
  {
   "cell_type": "markdown",
   "metadata": {},
   "source": [
    "We can see that we lost about 200 more values which is relatively small considering how much data we have"
   ]
  },
  {
   "cell_type": "markdown",
   "metadata": {},
   "source": [
    "### 7.Feature selection:<a id='feature_selection'></a>\n",
    "It is clear that even after deleting some features, there might be other features that aren't obviously useless but can be delted and keep a good overall performance.\n",
    "\n",
    "To verify this, we perform feature selection on our variables."
   ]
  },
  {
   "cell_type": "code",
   "execution_count": null,
   "metadata": {},
   "outputs": [
    {
     "data": {
      "text/html": [
       "<div>\n",
       "<style scoped>\n",
       "    .dataframe tbody tr th:only-of-type {\n",
       "        vertical-align: middle;\n",
       "    }\n",
       "\n",
       "    .dataframe tbody tr th {\n",
       "        vertical-align: top;\n",
       "    }\n",
       "\n",
       "    .dataframe thead th {\n",
       "        text-align: right;\n",
       "    }\n",
       "</style>\n",
       "<table border=\"1\" class=\"dataframe\">\n",
       "  <thead>\n",
       "    <tr style=\"text-align: right;\">\n",
       "      <th></th>\n",
       "      <th>price</th>\n",
       "      <th>bedrooms</th>\n",
       "      <th>bathrooms</th>\n",
       "      <th>sqft_living</th>\n",
       "      <th>sqft_lot</th>\n",
       "      <th>floors</th>\n",
       "      <th>waterfront</th>\n",
       "      <th>view</th>\n",
       "      <th>condition</th>\n",
       "      <th>grade</th>\n",
       "      <th>sqft_above</th>\n",
       "      <th>sqft_basement</th>\n",
       "      <th>yr_built</th>\n",
       "      <th>yr_renovated</th>\n",
       "      <th>zipcode</th>\n",
       "      <th>lat</th>\n",
       "      <th>long</th>\n",
       "      <th>sqft_living15</th>\n",
       "      <th>sqft_lot15</th>\n",
       "    </tr>\n",
       "  </thead>\n",
       "  <tbody>\n",
       "    <tr>\n",
       "      <th>price</th>\n",
       "      <td>1.000000</td>\n",
       "      <td>0.313913</td>\n",
       "      <td>0.503480</td>\n",
       "      <td>0.675169</td>\n",
       "      <td>0.095522</td>\n",
       "      <td>0.279011</td>\n",
       "      <td>0.120362</td>\n",
       "      <td>0.333288</td>\n",
       "      <td>0.038371</td>\n",
       "      <td>0.679073</td>\n",
       "      <td>0.578609</td>\n",
       "      <td>0.284243</td>\n",
       "      <td>0.061721</td>\n",
       "      <td>0.117579</td>\n",
       "      <td>-0.040773</td>\n",
       "      <td>0.372590</td>\n",
       "      <td>0.042450</td>\n",
       "      <td>0.600659</td>\n",
       "      <td>0.087850</td>\n",
       "    </tr>\n",
       "    <tr>\n",
       "      <th>bedrooms</th>\n",
       "      <td>0.313913</td>\n",
       "      <td>1.000000</td>\n",
       "      <td>0.507279</td>\n",
       "      <td>0.580084</td>\n",
       "      <td>0.030615</td>\n",
       "      <td>0.166189</td>\n",
       "      <td>-0.031448</td>\n",
       "      <td>0.058985</td>\n",
       "      <td>0.025632</td>\n",
       "      <td>0.343491</td>\n",
       "      <td>0.469627</td>\n",
       "      <td>0.294526</td>\n",
       "      <td>0.158545</td>\n",
       "      <td>0.012291</td>\n",
       "      <td>-0.151216</td>\n",
       "      <td>-0.014570</td>\n",
       "      <td>0.133664</td>\n",
       "      <td>0.381298</td>\n",
       "      <td>0.027786</td>\n",
       "    </tr>\n",
       "    <tr>\n",
       "      <th>bathrooms</th>\n",
       "      <td>0.503480</td>\n",
       "      <td>0.507279</td>\n",
       "      <td>1.000000</td>\n",
       "      <td>0.738569</td>\n",
       "      <td>0.081139</td>\n",
       "      <td>0.503108</td>\n",
       "      <td>0.013303</td>\n",
       "      <td>0.145588</td>\n",
       "      <td>-0.131571</td>\n",
       "      <td>0.645915</td>\n",
       "      <td>0.664268</td>\n",
       "      <td>0.253612</td>\n",
       "      <td>0.524054</td>\n",
       "      <td>0.041977</td>\n",
       "      <td>-0.204249</td>\n",
       "      <td>0.013619</td>\n",
       "      <td>0.235506</td>\n",
       "      <td>0.552674</td>\n",
       "      <td>0.082768</td>\n",
       "    </tr>\n",
       "    <tr>\n",
       "      <th>sqft_living</th>\n",
       "      <td>0.675169</td>\n",
       "      <td>0.580084</td>\n",
       "      <td>0.738569</td>\n",
       "      <td>1.000000</td>\n",
       "      <td>0.170944</td>\n",
       "      <td>0.351824</td>\n",
       "      <td>0.024445</td>\n",
       "      <td>0.232343</td>\n",
       "      <td>-0.066942</td>\n",
       "      <td>0.745089</td>\n",
       "      <td>0.866117</td>\n",
       "      <td>0.404285</td>\n",
       "      <td>0.340216</td>\n",
       "      <td>0.039923</td>\n",
       "      <td>-0.203222</td>\n",
       "      <td>0.039787</td>\n",
       "      <td>0.263516</td>\n",
       "      <td>0.754251</td>\n",
       "      <td>0.183985</td>\n",
       "    </tr>\n",
       "    <tr>\n",
       "      <th>sqft_lot</th>\n",
       "      <td>0.095522</td>\n",
       "      <td>0.030615</td>\n",
       "      <td>0.081139</td>\n",
       "      <td>0.170944</td>\n",
       "      <td>1.000000</td>\n",
       "      <td>-0.008894</td>\n",
       "      <td>0.021670</td>\n",
       "      <td>0.071536</td>\n",
       "      <td>-0.007022</td>\n",
       "      <td>0.106896</td>\n",
       "      <td>0.179954</td>\n",
       "      <td>0.010746</td>\n",
       "      <td>0.050931</td>\n",
       "      <td>0.007734</td>\n",
       "      <td>-0.130780</td>\n",
       "      <td>-0.088788</td>\n",
       "      <td>0.227619</td>\n",
       "      <td>0.145404</td>\n",
       "      <td>0.714942</td>\n",
       "    </tr>\n",
       "    <tr>\n",
       "      <th>floors</th>\n",
       "      <td>0.279011</td>\n",
       "      <td>0.166189</td>\n",
       "      <td>0.503108</td>\n",
       "      <td>0.351824</td>\n",
       "      <td>-0.008894</td>\n",
       "      <td>1.000000</td>\n",
       "      <td>0.007045</td>\n",
       "      <td>0.012112</td>\n",
       "      <td>-0.269060</td>\n",
       "      <td>0.458068</td>\n",
       "      <td>0.528873</td>\n",
       "      <td>-0.267927</td>\n",
       "      <td>0.496864</td>\n",
       "      <td>0.003332</td>\n",
       "      <td>-0.059658</td>\n",
       "      <td>0.046344</td>\n",
       "      <td>0.128757</td>\n",
       "      <td>0.275197</td>\n",
       "      <td>-0.014071</td>\n",
       "    </tr>\n",
       "    <tr>\n",
       "      <th>waterfront</th>\n",
       "      <td>0.120362</td>\n",
       "      <td>-0.031448</td>\n",
       "      <td>0.013303</td>\n",
       "      <td>0.024445</td>\n",
       "      <td>0.021670</td>\n",
       "      <td>0.007045</td>\n",
       "      <td>1.000000</td>\n",
       "      <td>0.338682</td>\n",
       "      <td>0.018662</td>\n",
       "      <td>0.018737</td>\n",
       "      <td>0.011203</td>\n",
       "      <td>0.028125</td>\n",
       "      <td>-0.039325</td>\n",
       "      <td>0.087640</td>\n",
       "      <td>0.045224</td>\n",
       "      <td>-0.032245</td>\n",
       "      <td>-0.054970</td>\n",
       "      <td>0.030519</td>\n",
       "      <td>0.028859</td>\n",
       "    </tr>\n",
       "    <tr>\n",
       "      <th>view</th>\n",
       "      <td>0.333288</td>\n",
       "      <td>0.058985</td>\n",
       "      <td>0.145588</td>\n",
       "      <td>0.232343</td>\n",
       "      <td>0.071536</td>\n",
       "      <td>0.012112</td>\n",
       "      <td>0.338682</td>\n",
       "      <td>1.000000</td>\n",
       "      <td>0.041502</td>\n",
       "      <td>0.205186</td>\n",
       "      <td>0.118055</td>\n",
       "      <td>0.246141</td>\n",
       "      <td>-0.059593</td>\n",
       "      <td>0.095342</td>\n",
       "      <td>0.094123</td>\n",
       "      <td>-0.006438</td>\n",
       "      <td>-0.079788</td>\n",
       "      <td>0.242801</td>\n",
       "      <td>0.069025</td>\n",
       "    </tr>\n",
       "    <tr>\n",
       "      <th>condition</th>\n",
       "      <td>0.038371</td>\n",
       "      <td>0.025632</td>\n",
       "      <td>-0.131571</td>\n",
       "      <td>-0.066942</td>\n",
       "      <td>-0.007022</td>\n",
       "      <td>-0.269060</td>\n",
       "      <td>0.018662</td>\n",
       "      <td>0.041502</td>\n",
       "      <td>1.000000</td>\n",
       "      <td>-0.154403</td>\n",
       "      <td>-0.169052</td>\n",
       "      <td>0.176182</td>\n",
       "      <td>-0.358445</td>\n",
       "      <td>-0.061433</td>\n",
       "      <td>-0.000224</td>\n",
       "      <td>-0.015983</td>\n",
       "      <td>-0.104687</td>\n",
       "      <td>-0.102265</td>\n",
       "      <td>-0.001976</td>\n",
       "    </tr>\n",
       "    <tr>\n",
       "      <th>grade</th>\n",
       "      <td>0.679073</td>\n",
       "      <td>0.343491</td>\n",
       "      <td>0.645915</td>\n",
       "      <td>0.745089</td>\n",
       "      <td>0.106896</td>\n",
       "      <td>0.458068</td>\n",
       "      <td>0.018737</td>\n",
       "      <td>0.205186</td>\n",
       "      <td>-0.154403</td>\n",
       "      <td>1.000000</td>\n",
       "      <td>0.739784</td>\n",
       "      <td>0.128400</td>\n",
       "      <td>0.464914</td>\n",
       "      <td>0.001683</td>\n",
       "      <td>-0.185003</td>\n",
       "      <td>0.106007</td>\n",
       "      <td>0.212044</td>\n",
       "      <td>0.701509</td>\n",
       "      <td>0.114642</td>\n",
       "    </tr>\n",
       "    <tr>\n",
       "      <th>sqft_above</th>\n",
       "      <td>0.578609</td>\n",
       "      <td>0.469627</td>\n",
       "      <td>0.664268</td>\n",
       "      <td>0.866117</td>\n",
       "      <td>0.179954</td>\n",
       "      <td>0.528873</td>\n",
       "      <td>0.011203</td>\n",
       "      <td>0.118055</td>\n",
       "      <td>-0.169052</td>\n",
       "      <td>0.739784</td>\n",
       "      <td>1.000000</td>\n",
       "      <td>-0.107014</td>\n",
       "      <td>0.445411</td>\n",
       "      <td>0.009851</td>\n",
       "      <td>-0.265984</td>\n",
       "      <td>-0.015083</td>\n",
       "      <td>0.367668</td>\n",
       "      <td>0.727932</td>\n",
       "      <td>0.192499</td>\n",
       "    </tr>\n",
       "    <tr>\n",
       "      <th>sqft_basement</th>\n",
       "      <td>0.284243</td>\n",
       "      <td>0.294526</td>\n",
       "      <td>0.253612</td>\n",
       "      <td>0.404285</td>\n",
       "      <td>0.010746</td>\n",
       "      <td>-0.267927</td>\n",
       "      <td>0.028125</td>\n",
       "      <td>0.246141</td>\n",
       "      <td>0.176182</td>\n",
       "      <td>0.128400</td>\n",
       "      <td>-0.107014</td>\n",
       "      <td>1.000000</td>\n",
       "      <td>-0.138294</td>\n",
       "      <td>0.061388</td>\n",
       "      <td>0.082473</td>\n",
       "      <td>0.106742</td>\n",
       "      <td>-0.148604</td>\n",
       "      <td>0.168310</td>\n",
       "      <td>0.013730</td>\n",
       "    </tr>\n",
       "    <tr>\n",
       "      <th>yr_built</th>\n",
       "      <td>0.061721</td>\n",
       "      <td>0.158545</td>\n",
       "      <td>0.524054</td>\n",
       "      <td>0.340216</td>\n",
       "      <td>0.050931</td>\n",
       "      <td>0.496864</td>\n",
       "      <td>-0.039325</td>\n",
       "      <td>-0.059593</td>\n",
       "      <td>-0.358445</td>\n",
       "      <td>0.464914</td>\n",
       "      <td>0.445411</td>\n",
       "      <td>-0.138294</td>\n",
       "      <td>1.000000</td>\n",
       "      <td>-0.223759</td>\n",
       "      <td>-0.345564</td>\n",
       "      <td>-0.150118</td>\n",
       "      <td>0.410147</td>\n",
       "      <td>0.340827</td>\n",
       "      <td>0.069228</td>\n",
       "    </tr>\n",
       "    <tr>\n",
       "      <th>yr_renovated</th>\n",
       "      <td>0.117579</td>\n",
       "      <td>0.012291</td>\n",
       "      <td>0.041977</td>\n",
       "      <td>0.039923</td>\n",
       "      <td>0.007734</td>\n",
       "      <td>0.003332</td>\n",
       "      <td>0.087640</td>\n",
       "      <td>0.095342</td>\n",
       "      <td>-0.061433</td>\n",
       "      <td>0.001683</td>\n",
       "      <td>0.009851</td>\n",
       "      <td>0.061388</td>\n",
       "      <td>-0.223759</td>\n",
       "      <td>1.000000</td>\n",
       "      <td>0.068643</td>\n",
       "      <td>0.027371</td>\n",
       "      <td>-0.068203</td>\n",
       "      <td>-0.020034</td>\n",
       "      <td>0.006892</td>\n",
       "    </tr>\n",
       "    <tr>\n",
       "      <th>zipcode</th>\n",
       "      <td>-0.040773</td>\n",
       "      <td>-0.151216</td>\n",
       "      <td>-0.204249</td>\n",
       "      <td>-0.203222</td>\n",
       "      <td>-0.130780</td>\n",
       "      <td>-0.059658</td>\n",
       "      <td>0.045224</td>\n",
       "      <td>0.094123</td>\n",
       "      <td>-0.000224</td>\n",
       "      <td>-0.185003</td>\n",
       "      <td>-0.265984</td>\n",
       "      <td>0.082473</td>\n",
       "      <td>-0.345564</td>\n",
       "      <td>0.068643</td>\n",
       "      <td>1.000000</td>\n",
       "      <td>0.270054</td>\n",
       "      <td>-0.565100</td>\n",
       "      <td>-0.281324</td>\n",
       "      <td>-0.147498</td>\n",
       "    </tr>\n",
       "    <tr>\n",
       "      <th>lat</th>\n",
       "      <td>0.372590</td>\n",
       "      <td>-0.014570</td>\n",
       "      <td>0.013619</td>\n",
       "      <td>0.039787</td>\n",
       "      <td>-0.088788</td>\n",
       "      <td>0.046344</td>\n",
       "      <td>-0.032245</td>\n",
       "      <td>-0.006438</td>\n",
       "      <td>-0.015983</td>\n",
       "      <td>0.106007</td>\n",
       "      <td>-0.015083</td>\n",
       "      <td>0.106742</td>\n",
       "      <td>-0.150118</td>\n",
       "      <td>0.027371</td>\n",
       "      <td>0.270054</td>\n",
       "      <td>1.000000</td>\n",
       "      <td>-0.134562</td>\n",
       "      <td>0.040551</td>\n",
       "      <td>-0.087969</td>\n",
       "    </tr>\n",
       "    <tr>\n",
       "      <th>long</th>\n",
       "      <td>0.042450</td>\n",
       "      <td>0.133664</td>\n",
       "      <td>0.235506</td>\n",
       "      <td>0.263516</td>\n",
       "      <td>0.227619</td>\n",
       "      <td>0.128757</td>\n",
       "      <td>-0.054970</td>\n",
       "      <td>-0.079788</td>\n",
       "      <td>-0.104687</td>\n",
       "      <td>0.212044</td>\n",
       "      <td>0.367668</td>\n",
       "      <td>-0.148604</td>\n",
       "      <td>0.410147</td>\n",
       "      <td>-0.068203</td>\n",
       "      <td>-0.565100</td>\n",
       "      <td>-0.134562</td>\n",
       "      <td>1.000000</td>\n",
       "      <td>0.350375</td>\n",
       "      <td>0.252968</td>\n",
       "    </tr>\n",
       "    <tr>\n",
       "      <th>sqft_living15</th>\n",
       "      <td>0.600659</td>\n",
       "      <td>0.381298</td>\n",
       "      <td>0.552674</td>\n",
       "      <td>0.754251</td>\n",
       "      <td>0.145404</td>\n",
       "      <td>0.275197</td>\n",
       "      <td>0.030519</td>\n",
       "      <td>0.242801</td>\n",
       "      <td>-0.102265</td>\n",
       "      <td>0.701509</td>\n",
       "      <td>0.727932</td>\n",
       "      <td>0.168310</td>\n",
       "      <td>0.340827</td>\n",
       "      <td>-0.020034</td>\n",
       "      <td>-0.281324</td>\n",
       "      <td>0.040551</td>\n",
       "      <td>0.350375</td>\n",
       "      <td>1.000000</td>\n",
       "      <td>0.182616</td>\n",
       "    </tr>\n",
       "    <tr>\n",
       "      <th>sqft_lot15</th>\n",
       "      <td>0.087850</td>\n",
       "      <td>0.027786</td>\n",
       "      <td>0.082768</td>\n",
       "      <td>0.183985</td>\n",
       "      <td>0.714942</td>\n",
       "      <td>-0.014071</td>\n",
       "      <td>0.028859</td>\n",
       "      <td>0.069025</td>\n",
       "      <td>-0.001976</td>\n",
       "      <td>0.114642</td>\n",
       "      <td>0.192499</td>\n",
       "      <td>0.013730</td>\n",
       "      <td>0.069228</td>\n",
       "      <td>0.006892</td>\n",
       "      <td>-0.147498</td>\n",
       "      <td>-0.087969</td>\n",
       "      <td>0.252968</td>\n",
       "      <td>0.182616</td>\n",
       "      <td>1.000000</td>\n",
       "    </tr>\n",
       "  </tbody>\n",
       "</table>\n",
       "</div>"
      ],
      "text/plain": [
       "                  price  bedrooms  bathrooms  sqft_living  sqft_lot    floors  \\\n",
       "price          1.000000  0.313913   0.503480     0.675169  0.095522  0.279011   \n",
       "bedrooms       0.313913  1.000000   0.507279     0.580084  0.030615  0.166189   \n",
       "bathrooms      0.503480  0.507279   1.000000     0.738569  0.081139  0.503108   \n",
       "sqft_living    0.675169  0.580084   0.738569     1.000000  0.170944  0.351824   \n",
       "sqft_lot       0.095522  0.030615   0.081139     0.170944  1.000000 -0.008894   \n",
       "floors         0.279011  0.166189   0.503108     0.351824 -0.008894  1.000000   \n",
       "waterfront     0.120362 -0.031448   0.013303     0.024445  0.021670  0.007045   \n",
       "view           0.333288  0.058985   0.145588     0.232343  0.071536  0.012112   \n",
       "condition      0.038371  0.025632  -0.131571    -0.066942 -0.007022 -0.269060   \n",
       "grade          0.679073  0.343491   0.645915     0.745089  0.106896  0.458068   \n",
       "sqft_above     0.578609  0.469627   0.664268     0.866117  0.179954  0.528873   \n",
       "sqft_basement  0.284243  0.294526   0.253612     0.404285  0.010746 -0.267927   \n",
       "yr_built       0.061721  0.158545   0.524054     0.340216  0.050931  0.496864   \n",
       "yr_renovated   0.117579  0.012291   0.041977     0.039923  0.007734  0.003332   \n",
       "zipcode       -0.040773 -0.151216  -0.204249    -0.203222 -0.130780 -0.059658   \n",
       "lat            0.372590 -0.014570   0.013619     0.039787 -0.088788  0.046344   \n",
       "long           0.042450  0.133664   0.235506     0.263516  0.227619  0.128757   \n",
       "sqft_living15  0.600659  0.381298   0.552674     0.754251  0.145404  0.275197   \n",
       "sqft_lot15     0.087850  0.027786   0.082768     0.183985  0.714942 -0.014071   \n",
       "\n",
       "               waterfront      view  condition     grade  sqft_above  \\\n",
       "price            0.120362  0.333288   0.038371  0.679073    0.578609   \n",
       "bedrooms        -0.031448  0.058985   0.025632  0.343491    0.469627   \n",
       "bathrooms        0.013303  0.145588  -0.131571  0.645915    0.664268   \n",
       "sqft_living      0.024445  0.232343  -0.066942  0.745089    0.866117   \n",
       "sqft_lot         0.021670  0.071536  -0.007022  0.106896    0.179954   \n",
       "floors           0.007045  0.012112  -0.269060  0.458068    0.528873   \n",
       "waterfront       1.000000  0.338682   0.018662  0.018737    0.011203   \n",
       "view             0.338682  1.000000   0.041502  0.205186    0.118055   \n",
       "condition        0.018662  0.041502   1.000000 -0.154403   -0.169052   \n",
       "grade            0.018737  0.205186  -0.154403  1.000000    0.739784   \n",
       "sqft_above       0.011203  0.118055  -0.169052  0.739784    1.000000   \n",
       "sqft_basement    0.028125  0.246141   0.176182  0.128400   -0.107014   \n",
       "yr_built        -0.039325 -0.059593  -0.358445  0.464914    0.445411   \n",
       "yr_renovated     0.087640  0.095342  -0.061433  0.001683    0.009851   \n",
       "zipcode          0.045224  0.094123  -0.000224 -0.185003   -0.265984   \n",
       "lat             -0.032245 -0.006438  -0.015983  0.106007   -0.015083   \n",
       "long            -0.054970 -0.079788  -0.104687  0.212044    0.367668   \n",
       "sqft_living15    0.030519  0.242801  -0.102265  0.701509    0.727932   \n",
       "sqft_lot15       0.028859  0.069025  -0.001976  0.114642    0.192499   \n",
       "\n",
       "               sqft_basement  yr_built  yr_renovated   zipcode       lat  \\\n",
       "price               0.284243  0.061721      0.117579 -0.040773  0.372590   \n",
       "bedrooms            0.294526  0.158545      0.012291 -0.151216 -0.014570   \n",
       "bathrooms           0.253612  0.524054      0.041977 -0.204249  0.013619   \n",
       "sqft_living         0.404285  0.340216      0.039923 -0.203222  0.039787   \n",
       "sqft_lot            0.010746  0.050931      0.007734 -0.130780 -0.088788   \n",
       "floors             -0.267927  0.496864      0.003332 -0.059658  0.046344   \n",
       "waterfront          0.028125 -0.039325      0.087640  0.045224 -0.032245   \n",
       "view                0.246141 -0.059593      0.095342  0.094123 -0.006438   \n",
       "condition           0.176182 -0.358445     -0.061433 -0.000224 -0.015983   \n",
       "grade               0.128400  0.464914      0.001683 -0.185003  0.106007   \n",
       "sqft_above         -0.107014  0.445411      0.009851 -0.265984 -0.015083   \n",
       "sqft_basement       1.000000 -0.138294      0.061388  0.082473  0.106742   \n",
       "yr_built           -0.138294  1.000000     -0.223759 -0.345564 -0.150118   \n",
       "yr_renovated        0.061388 -0.223759      1.000000  0.068643  0.027371   \n",
       "zipcode             0.082473 -0.345564      0.068643  1.000000  0.270054   \n",
       "lat                 0.106742 -0.150118      0.027371  0.270054  1.000000   \n",
       "long               -0.148604  0.410147     -0.068203 -0.565100 -0.134562   \n",
       "sqft_living15       0.168310  0.340827     -0.020034 -0.281324  0.040551   \n",
       "sqft_lot15          0.013730  0.069228      0.006892 -0.147498 -0.087969   \n",
       "\n",
       "                   long  sqft_living15  sqft_lot15  \n",
       "price          0.042450       0.600659    0.087850  \n",
       "bedrooms       0.133664       0.381298    0.027786  \n",
       "bathrooms      0.235506       0.552674    0.082768  \n",
       "sqft_living    0.263516       0.754251    0.183985  \n",
       "sqft_lot       0.227619       0.145404    0.714942  \n",
       "floors         0.128757       0.275197   -0.014071  \n",
       "waterfront    -0.054970       0.030519    0.028859  \n",
       "view          -0.079788       0.242801    0.069025  \n",
       "condition     -0.104687      -0.102265   -0.001976  \n",
       "grade          0.212044       0.701509    0.114642  \n",
       "sqft_above     0.367668       0.727932    0.192499  \n",
       "sqft_basement -0.148604       0.168310    0.013730  \n",
       "yr_built       0.410147       0.340827    0.069228  \n",
       "yr_renovated  -0.068203      -0.020034    0.006892  \n",
       "zipcode       -0.565100      -0.281324   -0.147498  \n",
       "lat           -0.134562       0.040551   -0.087969  \n",
       "long           1.000000       0.350375    0.252968  \n",
       "sqft_living15  0.350375       1.000000    0.182616  \n",
       "sqft_lot15     0.252968       0.182616    1.000000  "
      ]
     },
     "execution_count": 142,
     "metadata": {},
     "output_type": "execute_result"
    },
    {
     "data": {
      "image/png": "[encoded data removed]",
      "text/plain": [
       "<Figure size 432x288 with 2 Axes>"
      ]
     },
     "metadata": {
      "needs_background": "light"
     },
     "output_type": "display_data"
    }
   ],
   "source": [
    "# To-Do : perform feature selection using correlation\n",
    "corr=df.corr()\n",
    "sns.heatmap(corr)\n",
    "corr"
   ]
  },
  {
   "cell_type": "code",
   "execution_count": null,
   "metadata": {},
   "outputs": [],
   "source": [
    "# To-Do : drop the variables that seem highly correlated to you\n",
    "columns = np.full((corr.shape[0],), True, dtype=bool)\n",
    "for i in range(corr.shape[0]):\n",
    "    for j in range(i+1, corr.shape[0]):\n",
    "        if abs(corr.iloc[i,j]) >= 0.8:\n",
    "            if columns[j]:\n",
    "                columns[j] = False\n",
    "selected_columns = df.columns[columns]\n",
    "df = df[selected_columns]\n",
    "#This code allows us to drop on of the features that are highly correlated with each other"
   ]
  },
  {
   "cell_type": "code",
   "execution_count": null,
   "metadata": {},
   "outputs": [
    {
     "name": "stdout",
     "output_type": "stream",
     "text": [
      "<class 'pandas.core.frame.DataFrame'>\n",
      "Int64Index: 21308 entries, 0 to 21612\n",
      "Data columns (total 18 columns):\n",
      " #   Column         Non-Null Count  Dtype  \n",
      "---  ------         --------------  -----  \n",
      " 0   price          21308 non-null  float64\n",
      " 1   bedrooms       21308 non-null  int64  \n",
      " 2   bathrooms      21308 non-null  float64\n",
      " 3   sqft_living    21308 non-null  float64\n",
      " 4   sqft_lot       21308 non-null  float64\n",
      " 5   floors         21308 non-null  float64\n",
      " 6   waterfront     21308 non-null  int64  \n",
      " 7   view           21308 non-null  int64  \n",
      " 8   condition      21308 non-null  int64  \n",
      " 9   grade          21308 non-null  int64  \n",
      " 10  sqft_basement  21308 non-null  int64  \n",
      " 11  yr_built       21308 non-null  float64\n",
      " 12  yr_renovated   21308 non-null  float64\n",
      " 13  zipcode        21308 non-null  float64\n",
      " 14  lat            21308 non-null  float64\n",
      " 15  long           21308 non-null  float64\n",
      " 16  sqft_living15  21308 non-null  float64\n",
      " 17  sqft_lot15     21308 non-null  int64  \n",
      "dtypes: float64(11), int64(7)\n",
      "memory usage: 3.1 MB\n"
     ]
    }
   ],
   "source": [
    "df.info()"
   ]
  },
  {
   "cell_type": "markdown",
   "metadata": {},
   "source": [
    "We can see that no variable was dropped and we still remain with too many variables and that's due to the fact that they are mostly poor correlated between them , and taking the correaltion limit to a number lower than 0.8 would mean losing too much information"
   ]
  },
  {
   "cell_type": "markdown",
   "metadata": {},
   "source": [
    "### 8.Linear regression:<a id='linear_reg'></a>\n",
    "Now that our data is clean and ready to be used, let's try to fit it into a linear regression model.\n",
    "\n",
    "<ul>\n",
    "    <li>We begin by splitting our variables into dependant and independant variables.</li>\n",
    "    <li>We create the model using the LinearRegression class.</li>\n",
    "    <li>We evaluate our model using the R² score</li>\n",
    "</ul>"
   ]
  },
  {
   "cell_type": "code",
   "execution_count": null,
   "metadata": {},
   "outputs": [],
   "source": [
    "# Splitting the data into dependant and independant variables\n",
    "Y = df['price']\n",
    "X = df.drop(['price'],axis = 1) "
   ]
  },
  {
   "cell_type": "code",
   "execution_count": null,
   "metadata": {},
   "outputs": [],
   "source": [
    "from sklearn.linear_model import LinearRegression\n",
    "# To-Do : Create a linear regression model using the LinearRegression class then fit it to the data\n",
    "model=LinearRegression()\n",
    "result=model.fit(X,Y)"
   ]
  },
  {
   "cell_type": "code",
   "execution_count": null,
   "metadata": {},
   "outputs": [
    {
     "data": {
      "text/plain": [
       "0.7152141608405068"
      ]
     },
     "execution_count": 147,
     "metadata": {},
     "output_type": "execute_result"
    }
   ],
   "source": [
    "# The function used to calculate the R² score is the method \"score\" found in the LinearRegression class\n",
    "result.score(X, Y) "
   ]
  },
  {
   "cell_type": "markdown",
   "metadata": {},
   "source": [
    "We obtain an R² result of 0.7 which is mediocre and could be upgraded by adjusting some details , but given my experience this the best I could get it up to"
   ]
  },
  {
   "cell_type": "markdown",
   "metadata": {},
   "source": [
    "Let's Try that again for a 0.7 corrélation :"
   ]
  },
  {
   "cell_type": "code",
   "execution_count": null,
   "metadata": {},
   "outputs": [
    {
     "name": "stdout",
     "output_type": "stream",
     "text": [
      "<class 'pandas.core.frame.DataFrame'>\n",
      "Int64Index: 21308 entries, 0 to 21612\n",
      "Data columns (total 14 columns):\n",
      " #   Column         Non-Null Count  Dtype  \n",
      "---  ------         --------------  -----  \n",
      " 0   price          21308 non-null  float64\n",
      " 1   bedrooms       21308 non-null  int64  \n",
      " 2   bathrooms      21308 non-null  float64\n",
      " 3   sqft_lot       21308 non-null  float64\n",
      " 4   floors         21308 non-null  float64\n",
      " 5   waterfront     21308 non-null  int64  \n",
      " 6   view           21308 non-null  int64  \n",
      " 7   condition      21308 non-null  int64  \n",
      " 8   sqft_basement  21308 non-null  int64  \n",
      " 9   yr_built       21308 non-null  float64\n",
      " 10  yr_renovated   21308 non-null  float64\n",
      " 11  zipcode        21308 non-null  float64\n",
      " 12  lat            21308 non-null  float64\n",
      " 13  long           21308 non-null  float64\n",
      "dtypes: float64(9), int64(5)\n",
      "memory usage: 2.4 MB\n"
     ]
    }
   ],
   "source": [
    "corr1=df.corr()\n",
    "columns = np.full((corr1.shape[0],), True, dtype=bool)\n",
    "for i in range(corr1.shape[0]):\n",
    "    for j in range(i+1, corr1.shape[0]):\n",
    "        if abs(corr1.iloc[i,j]) >= 0.7:\n",
    "            if columns[j]:\n",
    "                columns[j] = False\n",
    "selected_columns = df.columns[columns]\n",
    "df = df[selected_columns]\n",
    "df.info()"
   ]
  },
  {
   "cell_type": "markdown",
   "metadata": {},
   "source": [
    "We can see that 4 features were dropped , let's see how that affects our model :"
   ]
  },
  {
   "cell_type": "code",
   "execution_count": null,
   "metadata": {},
   "outputs": [],
   "source": [
    "X1 = df.drop(['price'],axis = 1)"
   ]
  },
  {
   "cell_type": "code",
   "execution_count": null,
   "metadata": {},
   "outputs": [],
   "source": [
    "from sklearn.linear_model import LinearRegression\n",
    "# To-Do : Create a linear regression model using the LinearRegression class then fit it to the data\n",
    "model=LinearRegression()\n",
    "result=model.fit(X1,Y)"
   ]
  },
  {
   "cell_type": "code",
   "execution_count": null,
   "metadata": {},
   "outputs": [
    {
     "data": {
      "text/plain": [
       "0.513846748821349"
      ]
     },
     "execution_count": 151,
     "metadata": {},
     "output_type": "execute_result"
    }
   ],
   "source": [
    "result.score(X1, Y) "
   ]
  },
  {
   "cell_type": "markdown",
   "metadata": {},
   "source": [
    "As we can see by dropping the correlation limit to just 0.7 the R² dropped to 0.5 which is bad , and that means that the information we lost during the feature selection was too important."
   ]
  },
  {
   "cell_type": "markdown",
   "metadata": {},
   "source": [
    "## Conclusion:\n",
    "Data preparation is a very important step in the machine learning pipeline. It is crucial to clean our data and understand it very well before we can create any model on the data.\n",
    "\n",
    "In this notebook, we have spent 4 steps preparing our data but only 1 to create the model. This reflects how time consuming the process of data preparation is compared to the other steps as well as the importance of the quality of the data used.\n",
    "\n",
    "In the next unit, we will see more about the models creation process and see a lot of important concepts in depth."
   ]
  }
 ],
 "metadata": {
  "kernelspec": {
   "display_name": "Python 3",
   "language": "python",
   "name": "python3"
  },
  "language_info": {
   "codemirror_mode": {
    "name": "ipython",
    "version": 3
   },
   "file_extension": ".py",
   "mimetype": "text/x-python",
   "name": "python",
   "nbconvert_exporter": "python",
   "pygments_lexer": "ipython3",
   "version": "3.9.0"
  }
 },
 "nbformat": 4,
 "nbformat_minor": 2
}
